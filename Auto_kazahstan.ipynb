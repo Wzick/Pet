{
 "cells": [
  {
   "cell_type": "markdown",
   "id": "ed8d009f",
   "metadata": {},
   "source": [
    "#  Продажи автомобилей в Казахстане 2019 год\n",
    "\n",
    "**Задача**\n",
    "\n",
    "Анализ рынка продаж автомобилей в Казахстане за январь-сентябрь 2019 года. \n",
    "\n",
    "Данные получены из официальной статистики VAG\n",
    "\n",
    "**Заказчик**\n",
    "\n",
    "\n",
    "**Результаты**"
   ]
  },
  {
   "cell_type": "markdown",
   "id": "17c5c7c3",
   "metadata": {},
   "source": [
    "\n",
    "Проанализируем данные авторынка Казахстана за 2019 год"
   ]
  },
  {
   "cell_type": "markdown",
   "id": "781dc89f",
   "metadata": {},
   "source": [
    "## Посмотрим данные"
   ]
  },
  {
   "cell_type": "code",
   "execution_count": 1,
   "id": "20a4d861",
   "metadata": {},
   "outputs": [],
   "source": [
    "import pandas as pd\n",
    "import numpy as np\n",
    "import plotly.express as px "
   ]
  },
  {
   "cell_type": "markdown",
   "id": "79b1448f",
   "metadata": {},
   "source": [
    "### Загружаем датасет и посмотрим на данные\n"
   ]
  },
  {
   "cell_type": "code",
   "execution_count": 2,
   "id": "3830b53e",
   "metadata": {},
   "outputs": [
    {
     "name": "stderr",
     "output_type": "stream",
     "text": [
      "C:\\Users\\wzick\\AppData\\Local\\Temp\\ipykernel_11040\\3285355333.py:7: DtypeWarning: Columns (7,10) have mixed types. Specify dtype option on import or set low_memory=False.\n",
      "  df = pd.read_csv('kz_2019_final_all_dirt.csv',index_col=0)\n"
     ]
    },
    {
     "data": {
      "text/html": [
       "<div>\n",
       "<style scoped>\n",
       "    .dataframe tbody tr th:only-of-type {\n",
       "        vertical-align: middle;\n",
       "    }\n",
       "\n",
       "    .dataframe tbody tr th {\n",
       "        vertical-align: top;\n",
       "    }\n",
       "\n",
       "    .dataframe thead th {\n",
       "        text-align: right;\n",
       "    }\n",
       "</style>\n",
       "<table border=\"1\" class=\"dataframe\">\n",
       "  <thead>\n",
       "    <tr style=\"text-align: right;\">\n",
       "      <th></th>\n",
       "      <th>Год</th>\n",
       "      <th>Месяц</th>\n",
       "      <th>Компания</th>\n",
       "      <th>Бренд</th>\n",
       "      <th>Модель</th>\n",
       "      <th>Модификация</th>\n",
       "      <th>Год выпуска</th>\n",
       "      <th>Страна-производитель</th>\n",
       "      <th>Вид топлива</th>\n",
       "      <th>Объём двиг, л,</th>\n",
       "      <th>...</th>\n",
       "      <th>Тип клиента</th>\n",
       "      <th>Форма расчета</th>\n",
       "      <th>Количество</th>\n",
       "      <th>Цена, USD</th>\n",
       "      <th>Продажа, USD</th>\n",
       "      <th>Область</th>\n",
       "      <th>Сегментация 2013</th>\n",
       "      <th>Класс 2013</th>\n",
       "      <th>Сегментация Eng</th>\n",
       "      <th>Локализация производства</th>\n",
       "    </tr>\n",
       "  </thead>\n",
       "  <tbody>\n",
       "    <tr>\n",
       "      <th>0</th>\n",
       "      <td>2019</td>\n",
       "      <td>Март</td>\n",
       "      <td>Mercur Auto</td>\n",
       "      <td>Audi</td>\n",
       "      <td>A3</td>\n",
       "      <td>Audi A3 TFSI</td>\n",
       "      <td>2017</td>\n",
       "      <td>Германия</td>\n",
       "      <td>Бензин</td>\n",
       "      <td>1.4</td>\n",
       "      <td>...</td>\n",
       "      <td>Физ. Лицо</td>\n",
       "      <td>безналичный</td>\n",
       "      <td>1.0</td>\n",
       "      <td>31250.000000</td>\n",
       "      <td>31250.000000</td>\n",
       "      <td>г.Алматы</td>\n",
       "      <td>Легковые автомобили</td>\n",
       "      <td>C класс</td>\n",
       "      <td>C</td>\n",
       "      <td>Импорт</td>\n",
       "    </tr>\n",
       "    <tr>\n",
       "      <th>1</th>\n",
       "      <td>2019</td>\n",
       "      <td>Май</td>\n",
       "      <td>Mercur Auto</td>\n",
       "      <td>Audi</td>\n",
       "      <td>A3</td>\n",
       "      <td>TFSI</td>\n",
       "      <td>2018</td>\n",
       "      <td>Германия</td>\n",
       "      <td>Бензин</td>\n",
       "      <td>1.4</td>\n",
       "      <td>...</td>\n",
       "      <td>Физ. Лицо</td>\n",
       "      <td>наличный</td>\n",
       "      <td>1.0</td>\n",
       "      <td>30581.000000</td>\n",
       "      <td>30581.000000</td>\n",
       "      <td>г.Алматы</td>\n",
       "      <td>Легковые автомобили</td>\n",
       "      <td>C класс</td>\n",
       "      <td>C</td>\n",
       "      <td>Импорт</td>\n",
       "    </tr>\n",
       "    <tr>\n",
       "      <th>2</th>\n",
       "      <td>2019</td>\n",
       "      <td>Июнь</td>\n",
       "      <td>Mercur Auto</td>\n",
       "      <td>Audi</td>\n",
       "      <td>A3</td>\n",
       "      <td>TFSI</td>\n",
       "      <td>2018</td>\n",
       "      <td>Германия</td>\n",
       "      <td>Бензин</td>\n",
       "      <td>1.4</td>\n",
       "      <td>...</td>\n",
       "      <td>Физ. Лицо</td>\n",
       "      <td>наличный</td>\n",
       "      <td>1.0</td>\n",
       "      <td>35087.719000</td>\n",
       "      <td>35087.719000</td>\n",
       "      <td>г.Алматы</td>\n",
       "      <td>Легковые автомобили</td>\n",
       "      <td>C класс</td>\n",
       "      <td>C</td>\n",
       "      <td>Импорт</td>\n",
       "    </tr>\n",
       "    <tr>\n",
       "      <th>3</th>\n",
       "      <td>2019</td>\n",
       "      <td>Июль</td>\n",
       "      <td>Mercur Auto</td>\n",
       "      <td>Audi</td>\n",
       "      <td>A3</td>\n",
       "      <td>TFSI</td>\n",
       "      <td>2017</td>\n",
       "      <td>Германия</td>\n",
       "      <td>Бензин</td>\n",
       "      <td>1.4</td>\n",
       "      <td>...</td>\n",
       "      <td>Физ. Лицо</td>\n",
       "      <td>наличный</td>\n",
       "      <td>1.0</td>\n",
       "      <td>26608.232900</td>\n",
       "      <td>26608.232900</td>\n",
       "      <td>г.Алматы</td>\n",
       "      <td>Легковые автомобили</td>\n",
       "      <td>C класс</td>\n",
       "      <td>C</td>\n",
       "      <td>Импорт</td>\n",
       "    </tr>\n",
       "    <tr>\n",
       "      <th>4</th>\n",
       "      <td>2019</td>\n",
       "      <td>Июль</td>\n",
       "      <td>Mercur Auto</td>\n",
       "      <td>Audi</td>\n",
       "      <td>A4</td>\n",
       "      <td>A4 Allroad TFSI</td>\n",
       "      <td>2017</td>\n",
       "      <td>Германия</td>\n",
       "      <td>Бензин</td>\n",
       "      <td>2</td>\n",
       "      <td>...</td>\n",
       "      <td>Юр. Лицо</td>\n",
       "      <td>безналичный</td>\n",
       "      <td>1.0</td>\n",
       "      <td>48343.982648</td>\n",
       "      <td>48343.982648</td>\n",
       "      <td>г.Алматы</td>\n",
       "      <td>Легковые автомобили</td>\n",
       "      <td>D класс</td>\n",
       "      <td>D</td>\n",
       "      <td>Импорт</td>\n",
       "    </tr>\n",
       "    <tr>\n",
       "      <th>5</th>\n",
       "      <td>2019</td>\n",
       "      <td>Июнь</td>\n",
       "      <td>Mercur Auto</td>\n",
       "      <td>Audi</td>\n",
       "      <td>A5</td>\n",
       "      <td>TFSI</td>\n",
       "      <td>2017</td>\n",
       "      <td>Германия</td>\n",
       "      <td>Бензин</td>\n",
       "      <td>2</td>\n",
       "      <td>...</td>\n",
       "      <td>Юр. Лицо</td>\n",
       "      <td>безналичный</td>\n",
       "      <td>1.0</td>\n",
       "      <td>52760.736196</td>\n",
       "      <td>52760.736196</td>\n",
       "      <td>г.Алматы</td>\n",
       "      <td>Легковые автомобили</td>\n",
       "      <td>Спортивные автомобили</td>\n",
       "      <td>G1</td>\n",
       "      <td>Импорт</td>\n",
       "    </tr>\n",
       "    <tr>\n",
       "      <th>6</th>\n",
       "      <td>2019</td>\n",
       "      <td>Январь</td>\n",
       "      <td>Mercur Auto</td>\n",
       "      <td>Audi</td>\n",
       "      <td>A6</td>\n",
       "      <td>TFSI</td>\n",
       "      <td>2017</td>\n",
       "      <td>Германия</td>\n",
       "      <td>Бензин</td>\n",
       "      <td>2</td>\n",
       "      <td>...</td>\n",
       "      <td>Физ. Лицо</td>\n",
       "      <td>NaN</td>\n",
       "      <td>1.0</td>\n",
       "      <td>54288.366337</td>\n",
       "      <td>54288.366337</td>\n",
       "      <td>Костанайская область</td>\n",
       "      <td>Легковые автомобили</td>\n",
       "      <td>E класс</td>\n",
       "      <td>E</td>\n",
       "      <td>Импорт</td>\n",
       "    </tr>\n",
       "    <tr>\n",
       "      <th>7</th>\n",
       "      <td>2019</td>\n",
       "      <td>Январь</td>\n",
       "      <td>Mercur Auto</td>\n",
       "      <td>Audi</td>\n",
       "      <td>A6</td>\n",
       "      <td>TFSI</td>\n",
       "      <td>2017</td>\n",
       "      <td>Германия</td>\n",
       "      <td>Бензин</td>\n",
       "      <td>2</td>\n",
       "      <td>...</td>\n",
       "      <td>Юр. Лицо</td>\n",
       "      <td>NaN</td>\n",
       "      <td>1.0</td>\n",
       "      <td>54109.229963</td>\n",
       "      <td>54109.229963</td>\n",
       "      <td>г.Алматы</td>\n",
       "      <td>Легковые автомобили</td>\n",
       "      <td>E класс</td>\n",
       "      <td>E</td>\n",
       "      <td>Импорт</td>\n",
       "    </tr>\n",
       "    <tr>\n",
       "      <th>8</th>\n",
       "      <td>2019</td>\n",
       "      <td>Январь</td>\n",
       "      <td>Mercur Auto</td>\n",
       "      <td>Audi</td>\n",
       "      <td>A6</td>\n",
       "      <td>TFSI</td>\n",
       "      <td>2017</td>\n",
       "      <td>Германия</td>\n",
       "      <td>Бензин</td>\n",
       "      <td>2</td>\n",
       "      <td>...</td>\n",
       "      <td>Физ. Лицо</td>\n",
       "      <td>NaN</td>\n",
       "      <td>1.0</td>\n",
       "      <td>53143.930216</td>\n",
       "      <td>53143.930216</td>\n",
       "      <td>г.Алматы</td>\n",
       "      <td>Легковые автомобили</td>\n",
       "      <td>E класс</td>\n",
       "      <td>E</td>\n",
       "      <td>Импорт</td>\n",
       "    </tr>\n",
       "    <tr>\n",
       "      <th>9</th>\n",
       "      <td>2019</td>\n",
       "      <td>Январь</td>\n",
       "      <td>Mercur Auto</td>\n",
       "      <td>Audi</td>\n",
       "      <td>A6</td>\n",
       "      <td>TFSI</td>\n",
       "      <td>2017</td>\n",
       "      <td>Германия</td>\n",
       "      <td>Бензин</td>\n",
       "      <td>2</td>\n",
       "      <td>...</td>\n",
       "      <td>Физ. Лицо</td>\n",
       "      <td>NaN</td>\n",
       "      <td>1.0</td>\n",
       "      <td>44245.049505</td>\n",
       "      <td>44245.049505</td>\n",
       "      <td>Атырауская область</td>\n",
       "      <td>Легковые автомобили</td>\n",
       "      <td>E класс</td>\n",
       "      <td>E</td>\n",
       "      <td>Импорт</td>\n",
       "    </tr>\n",
       "  </tbody>\n",
       "</table>\n",
       "<p>10 rows × 25 columns</p>\n",
       "</div>"
      ],
      "text/plain": [
       "    Год   Месяц     Компания Бренд Модель      Модификация Год выпуска  \\\n",
       "0  2019    Март  Mercur Auto  Audi     A3     Audi A3 TFSI        2017   \n",
       "1  2019     Май  Mercur Auto  Audi     A3             TFSI        2018   \n",
       "2  2019    Июнь  Mercur Auto  Audi     A3             TFSI        2018   \n",
       "3  2019    Июль  Mercur Auto  Audi     A3             TFSI        2017   \n",
       "4  2019    Июль  Mercur Auto  Audi     A4  A4 Allroad TFSI        2017   \n",
       "5  2019    Июнь  Mercur Auto  Audi     A5             TFSI        2017   \n",
       "6  2019  Январь  Mercur Auto  Audi     A6             TFSI        2017   \n",
       "7  2019  Январь  Mercur Auto  Audi     A6             TFSI        2017   \n",
       "8  2019  Январь  Mercur Auto  Audi     A6             TFSI        2017   \n",
       "9  2019  Январь  Mercur Auto  Audi     A6             TFSI        2017   \n",
       "\n",
       "  Страна-производитель Вид топлива Объём двиг, л,  ... Тип клиента  \\\n",
       "0             Германия      Бензин            1.4  ...   Физ. Лицо   \n",
       "1             Германия      Бензин            1.4  ...   Физ. Лицо   \n",
       "2             Германия      Бензин            1.4  ...   Физ. Лицо   \n",
       "3             Германия      Бензин            1.4  ...   Физ. Лицо   \n",
       "4             Германия      Бензин              2  ...    Юр. Лицо   \n",
       "5             Германия      Бензин              2  ...    Юр. Лицо   \n",
       "6             Германия      Бензин              2  ...   Физ. Лицо   \n",
       "7             Германия      Бензин              2  ...    Юр. Лицо   \n",
       "8             Германия      Бензин              2  ...   Физ. Лицо   \n",
       "9             Германия      Бензин              2  ...   Физ. Лицо   \n",
       "\n",
       "  Форма расчета Количество     Цена, USD  Продажа, USD               Область  \\\n",
       "0   безналичный        1.0  31250.000000  31250.000000              г.Алматы   \n",
       "1      наличный        1.0  30581.000000  30581.000000              г.Алматы   \n",
       "2      наличный        1.0  35087.719000  35087.719000              г.Алматы   \n",
       "3      наличный        1.0  26608.232900  26608.232900              г.Алматы   \n",
       "4   безналичный        1.0  48343.982648  48343.982648              г.Алматы   \n",
       "5   безналичный        1.0  52760.736196  52760.736196              г.Алматы   \n",
       "6           NaN        1.0  54288.366337  54288.366337  Костанайская область   \n",
       "7           NaN        1.0  54109.229963  54109.229963              г.Алматы   \n",
       "8           NaN        1.0  53143.930216  53143.930216              г.Алматы   \n",
       "9           NaN        1.0  44245.049505  44245.049505    Атырауская область   \n",
       "\n",
       "       Сегментация 2013              Класс 2013  Сегментация Eng  \\\n",
       "0  Легковые автомобили                 C класс                 C   \n",
       "1  Легковые автомобили                 C класс                 C   \n",
       "2  Легковые автомобили                 C класс                 C   \n",
       "3  Легковые автомобили                 C класс                 C   \n",
       "4  Легковые автомобили                 D класс                 D   \n",
       "5  Легковые автомобили   Спортивные автомобили                G1   \n",
       "6  Легковые автомобили                 E класс                 E   \n",
       "7  Легковые автомобили                 E класс                 E   \n",
       "8  Легковые автомобили                 E класс                 E   \n",
       "9  Легковые автомобили                 E класс                 E   \n",
       "\n",
       "   Локализация производства  \n",
       "0                    Импорт  \n",
       "1                    Импорт  \n",
       "2                    Импорт  \n",
       "3                    Импорт  \n",
       "4                    Импорт  \n",
       "5                    Импорт  \n",
       "6                    Импорт  \n",
       "7                    Импорт  \n",
       "8                    Импорт  \n",
       "9                    Импорт  \n",
       "\n",
       "[10 rows x 25 columns]"
      ]
     },
     "metadata": {},
     "output_type": "display_data"
    },
    {
     "name": "stdout",
     "output_type": "stream",
     "text": [
      "<class 'pandas.core.frame.DataFrame'>\n",
      "Int64Index: 32854 entries, 0 to 32853\n",
      "Data columns (total 25 columns):\n",
      " #   Column                          Non-Null Count  Dtype  \n",
      "---  ------                          --------------  -----  \n",
      " 0   Год                             32854 non-null  int64  \n",
      " 1   Месяц                           32854 non-null  object \n",
      " 2   Компания                        32854 non-null  object \n",
      " 3   Бренд                           32854 non-null  object \n",
      " 4   Модель                          32854 non-null  object \n",
      " 5   Модификация                     29729 non-null  object \n",
      " 6   Год выпуска                     32700 non-null  object \n",
      " 7   Страна-производитель            32854 non-null  object \n",
      " 8   Вид топлива                     31942 non-null  object \n",
      " 9   Объём двиг, л,                  30968 non-null  object \n",
      " 10  Коробка передач                 31662 non-null  object \n",
      " 11  Тип привода                     30589 non-null  object \n",
      " 12  Сегмент                         28066 non-null  object \n",
      " 13  Регион                          32854 non-null  object \n",
      " 14  Наименование дилерского центра  32854 non-null  object \n",
      " 15  Тип клиента                     27124 non-null  object \n",
      " 16  Форма расчета                   7079 non-null   object \n",
      " 17  Количество                      32849 non-null  float64\n",
      " 18  Цена, USD                       32854 non-null  float64\n",
      " 19  Продажа, USD                    32854 non-null  float64\n",
      " 20  Область                         32854 non-null  object \n",
      " 21  Сегментация 2013                32854 non-null  object \n",
      " 22  Класс 2013                      32854 non-null  object \n",
      " 23  Сегментация Eng                 32854 non-null  object \n",
      " 24  Локализация производства        32854 non-null  object \n",
      "dtypes: float64(3), int64(1), object(21)\n",
      "memory usage: 6.5+ MB\n"
     ]
    },
    {
     "data": {
      "text/plain": [
       "None"
      ]
     },
     "metadata": {},
     "output_type": "display_data"
    },
    {
     "data": {
      "text/html": [
       "<div>\n",
       "<style scoped>\n",
       "    .dataframe tbody tr th:only-of-type {\n",
       "        vertical-align: middle;\n",
       "    }\n",
       "\n",
       "    .dataframe tbody tr th {\n",
       "        vertical-align: top;\n",
       "    }\n",
       "\n",
       "    .dataframe thead th {\n",
       "        text-align: right;\n",
       "    }\n",
       "</style>\n",
       "<table border=\"1\" class=\"dataframe\">\n",
       "  <thead>\n",
       "    <tr style=\"text-align: right;\">\n",
       "      <th></th>\n",
       "      <th>Год</th>\n",
       "      <th>Количество</th>\n",
       "      <th>Цена, USD</th>\n",
       "      <th>Продажа, USD</th>\n",
       "    </tr>\n",
       "  </thead>\n",
       "  <tbody>\n",
       "    <tr>\n",
       "      <th>count</th>\n",
       "      <td>32854.0</td>\n",
       "      <td>32849.000000</td>\n",
       "      <td>32854.000000</td>\n",
       "      <td>3.285400e+04</td>\n",
       "    </tr>\n",
       "    <tr>\n",
       "      <th>mean</th>\n",
       "      <td>2019.0</td>\n",
       "      <td>1.338153</td>\n",
       "      <td>29745.856890</td>\n",
       "      <td>3.529557e+04</td>\n",
       "    </tr>\n",
       "    <tr>\n",
       "      <th>std</th>\n",
       "      <td>0.0</td>\n",
       "      <td>2.088050</td>\n",
       "      <td>22364.077937</td>\n",
       "      <td>4.607861e+04</td>\n",
       "    </tr>\n",
       "    <tr>\n",
       "      <th>min</th>\n",
       "      <td>2019.0</td>\n",
       "      <td>1.000000</td>\n",
       "      <td>4571.358913</td>\n",
       "      <td>0.000000e+00</td>\n",
       "    </tr>\n",
       "    <tr>\n",
       "      <th>25%</th>\n",
       "      <td>2019.0</td>\n",
       "      <td>1.000000</td>\n",
       "      <td>15141.580725</td>\n",
       "      <td>1.635447e+04</td>\n",
       "    </tr>\n",
       "    <tr>\n",
       "      <th>50%</th>\n",
       "      <td>2019.0</td>\n",
       "      <td>1.000000</td>\n",
       "      <td>22819.022589</td>\n",
       "      <td>2.553389e+04</td>\n",
       "    </tr>\n",
       "    <tr>\n",
       "      <th>75%</th>\n",
       "      <td>2019.0</td>\n",
       "      <td>1.000000</td>\n",
       "      <td>34568.063195</td>\n",
       "      <td>3.741071e+04</td>\n",
       "    </tr>\n",
       "    <tr>\n",
       "      <th>max</th>\n",
       "      <td>2019.0</td>\n",
       "      <td>91.000000</td>\n",
       "      <td>498787.514716</td>\n",
       "      <td>1.980922e+06</td>\n",
       "    </tr>\n",
       "  </tbody>\n",
       "</table>\n",
       "</div>"
      ],
      "text/plain": [
       "           Год    Количество      Цена, USD  Продажа, USD\n",
       "count  32854.0  32849.000000   32854.000000  3.285400e+04\n",
       "mean    2019.0      1.338153   29745.856890  3.529557e+04\n",
       "std        0.0      2.088050   22364.077937  4.607861e+04\n",
       "min     2019.0      1.000000    4571.358913  0.000000e+00\n",
       "25%     2019.0      1.000000   15141.580725  1.635447e+04\n",
       "50%     2019.0      1.000000   22819.022589  2.553389e+04\n",
       "75%     2019.0      1.000000   34568.063195  3.741071e+04\n",
       "max     2019.0     91.000000  498787.514716  1.980922e+06"
      ]
     },
     "metadata": {},
     "output_type": "display_data"
    }
   ],
   "source": [
    "#открываем и сохраняем как датафрейм файл с данными:\n",
    "try:\n",
    "    # personal path\n",
    "    df = pd.read_csv('C:/Users/wzick/kz_2019_final_all_dirt.csv',index_col=0)  \n",
    "except:\n",
    "    # Yandex path\n",
    "    df = pd.read_csv('kz_2019_final_all_dirt.csv',index_col=0)\n",
    "\n",
    "display(df.head(10))\n",
    "display(df.info())\n",
    "display(df.describe())"
   ]
  },
  {
   "cell_type": "markdown",
   "id": "5891f526",
   "metadata": {},
   "source": [
    "### Обработаем первоначальные данные"
   ]
  },
  {
   "cell_type": "markdown",
   "id": "19cae1fd",
   "metadata": {},
   "source": [
    "### Перепишем наименования столбцов"
   ]
  },
  {
   "cell_type": "markdown",
   "id": "f6b1549f",
   "metadata": {},
   "source": [
    "Переименуем названия столбцов в привычный \"snake\" - вид и напишем с маленькой буквы."
   ]
  },
  {
   "cell_type": "code",
   "execution_count": 3,
   "id": "ed4c660a",
   "metadata": {},
   "outputs": [
    {
     "data": {
      "text/plain": [
       "Index(['год', 'месяц', 'компания', 'бренд', 'модель', 'модификация',\n",
       "       'год_выпуска', 'страна_производитель', 'вид_топлива', 'объём_двиг_л',\n",
       "       'коробка_передач', 'тип_привода', 'сегмент', 'регион',\n",
       "       'наименование_дилерского_центра', 'тип_клиента', 'форма_расчета',\n",
       "       'количество', 'цена_usd', 'продажа_usd', 'область', 'сегментация_2013',\n",
       "       'класс_2013', 'сегментация_eng', 'локализация_производства'],\n",
       "      dtype='object')"
      ]
     },
     "execution_count": 3,
     "metadata": {},
     "output_type": "execute_result"
    }
   ],
   "source": [
    "df.columns = (df.columns.str.lower()\n",
    " .str.replace(',', '')\n",
    " .str.replace('-', '_')\n",
    " .str.replace(' ', '_'))\n",
    "df.columns"
   ]
  },
  {
   "cell_type": "markdown",
   "id": "a80de182",
   "metadata": {},
   "source": [
    "### Удалим некоторые столбцы"
   ]
  },
  {
   "cell_type": "markdown",
   "id": "c0b30033",
   "metadata": {},
   "source": [
    "Удалим столбцы:\n",
    "* модификация - не нужен для анализа\n",
    "* локализация производства - фактически дублируется производителем\n",
    "* форма расчета - очень много пропусков (7079 значений из 32854)\n",
    "* уберем сегментация_eng - будем ориентироваться на класс_2013\n",
    "* сегмент - по той же причине\n",
    "* область - повторяет столбец регион\n",
    "* наименование дилерского центра - повторяет столбец компания\n",
    "* тип клиента - эта позиция не интересна при анализе заказчику"
   ]
  },
  {
   "cell_type": "code",
   "execution_count": 4,
   "id": "3a01a592",
   "metadata": {},
   "outputs": [
    {
     "data": {
      "text/html": [
       "<div>\n",
       "<style scoped>\n",
       "    .dataframe tbody tr th:only-of-type {\n",
       "        vertical-align: middle;\n",
       "    }\n",
       "\n",
       "    .dataframe tbody tr th {\n",
       "        vertical-align: top;\n",
       "    }\n",
       "\n",
       "    .dataframe thead th {\n",
       "        text-align: right;\n",
       "    }\n",
       "</style>\n",
       "<table border=\"1\" class=\"dataframe\">\n",
       "  <thead>\n",
       "    <tr style=\"text-align: right;\">\n",
       "      <th></th>\n",
       "      <th>год</th>\n",
       "      <th>месяц</th>\n",
       "      <th>компания</th>\n",
       "      <th>бренд</th>\n",
       "      <th>модель</th>\n",
       "      <th>год_выпуска</th>\n",
       "      <th>страна_производитель</th>\n",
       "      <th>вид_топлива</th>\n",
       "      <th>объём_двиг_л</th>\n",
       "      <th>коробка_передач</th>\n",
       "      <th>тип_привода</th>\n",
       "      <th>регион</th>\n",
       "      <th>количество</th>\n",
       "      <th>цена_usd</th>\n",
       "      <th>продажа_usd</th>\n",
       "      <th>сегментация_2013</th>\n",
       "      <th>класс_2013</th>\n",
       "    </tr>\n",
       "  </thead>\n",
       "  <tbody>\n",
       "    <tr>\n",
       "      <th>7073</th>\n",
       "      <td>2019</td>\n",
       "      <td>Март</td>\n",
       "      <td>Astana Motors</td>\n",
       "      <td>Hyundai</td>\n",
       "      <td>Sonata</td>\n",
       "      <td>2017</td>\n",
       "      <td>Республика Казахстан</td>\n",
       "      <td>Бензин</td>\n",
       "      <td>2</td>\n",
       "      <td>6AT</td>\n",
       "      <td>2WD</td>\n",
       "      <td>Алматы</td>\n",
       "      <td>1.0</td>\n",
       "      <td>31774.499528</td>\n",
       "      <td>31774.499528</td>\n",
       "      <td>Легковые автомобили</td>\n",
       "      <td>E класс</td>\n",
       "    </tr>\n",
       "    <tr>\n",
       "      <th>32678</th>\n",
       "      <td>2019</td>\n",
       "      <td>Август</td>\n",
       "      <td>Toyota Motor Kazakhstan</td>\n",
       "      <td>Toyota</td>\n",
       "      <td>C-HR</td>\n",
       "      <td>2018</td>\n",
       "      <td>Турция</td>\n",
       "      <td>Бензин</td>\n",
       "      <td>1,2T</td>\n",
       "      <td>CVТ(вариатор)</td>\n",
       "      <td>AWD</td>\n",
       "      <td>Атырау</td>\n",
       "      <td>1.0</td>\n",
       "      <td>28597.295043</td>\n",
       "      <td>28597.295043</td>\n",
       "      <td>Внедорожники</td>\n",
       "      <td>Среднеразмерные SUV</td>\n",
       "    </tr>\n",
       "    <tr>\n",
       "      <th>31910</th>\n",
       "      <td>2019</td>\n",
       "      <td>Апрель</td>\n",
       "      <td>Mercur Auto</td>\n",
       "      <td>Volkswagen</td>\n",
       "      <td>Tiguan</td>\n",
       "      <td>2018</td>\n",
       "      <td>Российская Федерация</td>\n",
       "      <td>Бензин</td>\n",
       "      <td>2</td>\n",
       "      <td>AT</td>\n",
       "      <td>4Motion</td>\n",
       "      <td>Караганда</td>\n",
       "      <td>1.0</td>\n",
       "      <td>38031.829716</td>\n",
       "      <td>38031.829716</td>\n",
       "      <td>Внедорожники</td>\n",
       "      <td>Компактные SUV</td>\n",
       "    </tr>\n",
       "    <tr>\n",
       "      <th>15733</th>\n",
       "      <td>2019</td>\n",
       "      <td>Август</td>\n",
       "      <td>Autokapital</td>\n",
       "      <td>Mercedes-Benz</td>\n",
       "      <td>GLS-Class</td>\n",
       "      <td>2018</td>\n",
       "      <td>США</td>\n",
       "      <td>Бензин</td>\n",
       "      <td>5</td>\n",
       "      <td>9АТ</td>\n",
       "      <td>4х4</td>\n",
       "      <td>Шымкент</td>\n",
       "      <td>1.0</td>\n",
       "      <td>79516.605062</td>\n",
       "      <td>79516.605062</td>\n",
       "      <td>Внедорожники</td>\n",
       "      <td>Компактные SUV</td>\n",
       "    </tr>\n",
       "    <tr>\n",
       "      <th>25882</th>\n",
       "      <td>2019</td>\n",
       "      <td>Январь</td>\n",
       "      <td>Toyota Motor Kazakhstan</td>\n",
       "      <td>Toyota</td>\n",
       "      <td>HILUX DC</td>\n",
       "      <td>2017</td>\n",
       "      <td>Таиланд</td>\n",
       "      <td>Бензин</td>\n",
       "      <td>2.7</td>\n",
       "      <td>AT</td>\n",
       "      <td>4WD</td>\n",
       "      <td>Алматы</td>\n",
       "      <td>1.0</td>\n",
       "      <td>40991.462700</td>\n",
       "      <td>40991.462700</td>\n",
       "      <td>Пикапы</td>\n",
       "      <td>Pick-ups</td>\n",
       "    </tr>\n",
       "    <tr>\n",
       "      <th>11484</th>\n",
       "      <td>2019</td>\n",
       "      <td>Август</td>\n",
       "      <td>БИПЭК АВТО</td>\n",
       "      <td>Kia</td>\n",
       "      <td>Rio</td>\n",
       "      <td>2018</td>\n",
       "      <td>Республика Казахстан</td>\n",
       "      <td>Бензин</td>\n",
       "      <td>1.6</td>\n",
       "      <td>6АТ</td>\n",
       "      <td>FWD</td>\n",
       "      <td>Астана</td>\n",
       "      <td>3.0</td>\n",
       "      <td>13500.000000</td>\n",
       "      <td>40500.000000</td>\n",
       "      <td>Легковые автомобили</td>\n",
       "      <td>B класс</td>\n",
       "    </tr>\n",
       "    <tr>\n",
       "      <th>30577</th>\n",
       "      <td>2019</td>\n",
       "      <td>Май</td>\n",
       "      <td>Вираж</td>\n",
       "      <td>UAZ</td>\n",
       "      <td>3741</td>\n",
       "      <td>2017</td>\n",
       "      <td>Российская Федерация</td>\n",
       "      <td>Бензин</td>\n",
       "      <td>2.7</td>\n",
       "      <td>MT</td>\n",
       "      <td>AWD</td>\n",
       "      <td>Костанай</td>\n",
       "      <td>1.0</td>\n",
       "      <td>14018.833999</td>\n",
       "      <td>14018.833999</td>\n",
       "      <td>Коммерческие автомобили</td>\n",
       "      <td>Малотоннажные грузовики</td>\n",
       "    </tr>\n",
       "    <tr>\n",
       "      <th>26085</th>\n",
       "      <td>2019</td>\n",
       "      <td>Апрель</td>\n",
       "      <td>Toyota Motor Kazakhstan</td>\n",
       "      <td>Toyota</td>\n",
       "      <td>HILUX DC</td>\n",
       "      <td>2017</td>\n",
       "      <td>Таиланд</td>\n",
       "      <td>Бензин</td>\n",
       "      <td>2,4G</td>\n",
       "      <td>6MT</td>\n",
       "      <td>4WD</td>\n",
       "      <td>Алматы</td>\n",
       "      <td>1.0</td>\n",
       "      <td>31924.958735</td>\n",
       "      <td>31924.958735</td>\n",
       "      <td>Пикапы</td>\n",
       "      <td>Pick-ups</td>\n",
       "    </tr>\n",
       "    <tr>\n",
       "      <th>4191</th>\n",
       "      <td>2019</td>\n",
       "      <td>Июль</td>\n",
       "      <td>Astana Motors</td>\n",
       "      <td>Hyundai</td>\n",
       "      <td>Accent</td>\n",
       "      <td>2018</td>\n",
       "      <td>Республика Казахстан</td>\n",
       "      <td>Бензин</td>\n",
       "      <td>1.6</td>\n",
       "      <td>6 AT</td>\n",
       "      <td>2 WD</td>\n",
       "      <td>Алматы</td>\n",
       "      <td>1.0</td>\n",
       "      <td>16528.762990</td>\n",
       "      <td>16528.762990</td>\n",
       "      <td>Легковые автомобили</td>\n",
       "      <td>B класс</td>\n",
       "    </tr>\n",
       "    <tr>\n",
       "      <th>19526</th>\n",
       "      <td>2019</td>\n",
       "      <td>Март</td>\n",
       "      <td>Renault Россия</td>\n",
       "      <td>Renault</td>\n",
       "      <td>Kaptur</td>\n",
       "      <td>2018</td>\n",
       "      <td>Российская Федерация</td>\n",
       "      <td>NaN</td>\n",
       "      <td>NaN</td>\n",
       "      <td>NaN</td>\n",
       "      <td>NaN</td>\n",
       "      <td>Астана</td>\n",
       "      <td>1.0</td>\n",
       "      <td>24308.028741</td>\n",
       "      <td>24308.028741</td>\n",
       "      <td>Внедорожники</td>\n",
       "      <td>Субкомпактные SUV</td>\n",
       "    </tr>\n",
       "  </tbody>\n",
       "</table>\n",
       "</div>"
      ],
      "text/plain": [
       "        год   месяц                 компания          бренд     модель  \\\n",
       "7073   2019    Март            Astana Motors        Hyundai     Sonata   \n",
       "32678  2019  Август  Toyota Motor Kazakhstan         Toyota       C-HR   \n",
       "31910  2019  Апрель              Mercur Auto     Volkswagen     Tiguan   \n",
       "15733  2019  Август              Autokapital  Mercedes-Benz  GLS-Class   \n",
       "25882  2019  Январь  Toyota Motor Kazakhstan         Toyota   HILUX DC   \n",
       "11484  2019  Август               БИПЭК АВТО            Kia        Rio   \n",
       "30577  2019     Май                    Вираж            UAZ       3741   \n",
       "26085  2019  Апрель  Toyota Motor Kazakhstan         Toyota   HILUX DC   \n",
       "4191   2019    Июль            Astana Motors        Hyundai     Accent   \n",
       "19526  2019    Март           Renault Россия        Renault     Kaptur   \n",
       "\n",
       "      год_выпуска  страна_производитель вид_топлива объём_двиг_л  \\\n",
       "7073         2017  Республика Казахстан      Бензин            2   \n",
       "32678        2018                Турция      Бензин         1,2T   \n",
       "31910        2018  Российская Федерация      Бензин            2   \n",
       "15733        2018                   США      Бензин            5   \n",
       "25882        2017               Таиланд      Бензин          2.7   \n",
       "11484        2018  Республика Казахстан      Бензин          1.6   \n",
       "30577        2017  Российская Федерация      Бензин          2.7   \n",
       "26085        2017               Таиланд      Бензин         2,4G   \n",
       "4191         2018  Республика Казахстан      Бензин          1.6   \n",
       "19526        2018  Российская Федерация         NaN          NaN   \n",
       "\n",
       "      коробка_передач тип_привода     регион  количество      цена_usd  \\\n",
       "7073              6AT         2WD     Алматы         1.0  31774.499528   \n",
       "32678   CVТ(вариатор)         AWD     Атырау         1.0  28597.295043   \n",
       "31910              AT     4Motion  Караганда         1.0  38031.829716   \n",
       "15733             9АТ         4х4    Шымкент         1.0  79516.605062   \n",
       "25882              AT         4WD     Алматы         1.0  40991.462700   \n",
       "11484             6АТ         FWD     Астана         3.0  13500.000000   \n",
       "30577              MT         AWD   Костанай         1.0  14018.833999   \n",
       "26085             6MT         4WD     Алматы         1.0  31924.958735   \n",
       "4191             6 AT        2 WD     Алматы         1.0  16528.762990   \n",
       "19526             NaN         NaN     Астана         1.0  24308.028741   \n",
       "\n",
       "        продажа_usd          сегментация_2013                класс_2013  \n",
       "7073   31774.499528      Легковые автомобили                   E класс   \n",
       "32678  28597.295043             Внедорожники       Среднеразмерные SUV   \n",
       "31910  38031.829716             Внедорожники            Компактные SUV   \n",
       "15733  79516.605062             Внедорожники            Компактные SUV   \n",
       "25882  40991.462700                   Пикапы                   Pick-ups  \n",
       "11484  40500.000000      Легковые автомобили                   B класс   \n",
       "30577  14018.833999  Коммерческие автомобили   Малотоннажные грузовики   \n",
       "26085  31924.958735                   Пикапы                   Pick-ups  \n",
       "4191   16528.762990      Легковые автомобили                   B класс   \n",
       "19526  24308.028741             Внедорожники         Субкомпактные SUV   "
      ]
     },
     "execution_count": 4,
     "metadata": {},
     "output_type": "execute_result"
    }
   ],
   "source": [
    "df=df.drop(['модификация', 'локализация_производства', 'тип_клиента', 'форма_расчета', 'сегментация_eng', 'сегмент', 'область', 'наименование_дилерского_центра'], axis=1)\n",
    "df.sample(10)"
   ]
  },
  {
   "cell_type": "markdown",
   "id": "360e7b1e",
   "metadata": {},
   "source": [
    "### Посмотрим дубликаты и пропуски\n"
   ]
  },
  {
   "cell_type": "code",
   "execution_count": 5,
   "id": "c93321f0",
   "metadata": {},
   "outputs": [
    {
     "data": {
      "text/plain": [
       "17090"
      ]
     },
     "execution_count": 5,
     "metadata": {},
     "output_type": "execute_result"
    }
   ],
   "source": [
    "len(df)- len(df.drop_duplicates ()) # подсчет дубликатов"
   ]
  },
  {
   "cell_type": "code",
   "execution_count": 6,
   "id": "9c52c4b0",
   "metadata": {},
   "outputs": [
    {
     "data": {
      "text/html": [
       "<div>\n",
       "<style scoped>\n",
       "    .dataframe tbody tr th:only-of-type {\n",
       "        vertical-align: middle;\n",
       "    }\n",
       "\n",
       "    .dataframe tbody tr th {\n",
       "        vertical-align: top;\n",
       "    }\n",
       "\n",
       "    .dataframe thead th {\n",
       "        text-align: right;\n",
       "    }\n",
       "</style>\n",
       "<table border=\"1\" class=\"dataframe\">\n",
       "  <thead>\n",
       "    <tr style=\"text-align: right;\">\n",
       "      <th></th>\n",
       "      <th>год</th>\n",
       "      <th>месяц</th>\n",
       "      <th>компания</th>\n",
       "      <th>бренд</th>\n",
       "      <th>модель</th>\n",
       "      <th>год_выпуска</th>\n",
       "      <th>страна_производитель</th>\n",
       "      <th>вид_топлива</th>\n",
       "      <th>объём_двиг_л</th>\n",
       "      <th>коробка_передач</th>\n",
       "      <th>тип_привода</th>\n",
       "      <th>регион</th>\n",
       "      <th>количество</th>\n",
       "      <th>цена_usd</th>\n",
       "      <th>продажа_usd</th>\n",
       "      <th>сегментация_2013</th>\n",
       "      <th>класс_2013</th>\n",
       "    </tr>\n",
       "  </thead>\n",
       "  <tbody>\n",
       "    <tr>\n",
       "      <th>16</th>\n",
       "      <td>2019</td>\n",
       "      <td>Январь</td>\n",
       "      <td>Mercur Auto</td>\n",
       "      <td>Audi</td>\n",
       "      <td>A6</td>\n",
       "      <td>2017</td>\n",
       "      <td>Германия</td>\n",
       "      <td>Бензин</td>\n",
       "      <td>2</td>\n",
       "      <td>S-tronic</td>\n",
       "      <td>quattro</td>\n",
       "      <td>Костанай</td>\n",
       "      <td>1.0</td>\n",
       "      <td>42878.315840</td>\n",
       "      <td>42878.315840</td>\n",
       "      <td>Легковые автомобили</td>\n",
       "      <td>E класс</td>\n",
       "    </tr>\n",
       "    <tr>\n",
       "      <th>19</th>\n",
       "      <td>2019</td>\n",
       "      <td>Январь</td>\n",
       "      <td>Mercur Auto</td>\n",
       "      <td>Audi</td>\n",
       "      <td>A6</td>\n",
       "      <td>2017</td>\n",
       "      <td>Германия</td>\n",
       "      <td>Бензин</td>\n",
       "      <td>2</td>\n",
       "      <td>S-tronic</td>\n",
       "      <td>quattro</td>\n",
       "      <td>Костанай</td>\n",
       "      <td>1.0</td>\n",
       "      <td>42268.471584</td>\n",
       "      <td>42268.471584</td>\n",
       "      <td>Легковые автомобили</td>\n",
       "      <td>E класс</td>\n",
       "    </tr>\n",
       "    <tr>\n",
       "      <th>37</th>\n",
       "      <td>2019</td>\n",
       "      <td>Апрель</td>\n",
       "      <td>Mercur Auto</td>\n",
       "      <td>Audi</td>\n",
       "      <td>A6</td>\n",
       "      <td>2017</td>\n",
       "      <td>Германия</td>\n",
       "      <td>Бензин</td>\n",
       "      <td>2</td>\n",
       "      <td>S-tronic</td>\n",
       "      <td>quattro</td>\n",
       "      <td>Алматы</td>\n",
       "      <td>1.0</td>\n",
       "      <td>52351.506492</td>\n",
       "      <td>52351.506492</td>\n",
       "      <td>Легковые автомобили</td>\n",
       "      <td>E класс</td>\n",
       "    </tr>\n",
       "    <tr>\n",
       "      <th>45</th>\n",
       "      <td>2019</td>\n",
       "      <td>Август</td>\n",
       "      <td>Mercur Auto</td>\n",
       "      <td>Audi</td>\n",
       "      <td>A6</td>\n",
       "      <td>2017</td>\n",
       "      <td>Германия</td>\n",
       "      <td>Бензин</td>\n",
       "      <td>2</td>\n",
       "      <td>S-Тronic</td>\n",
       "      <td>Quattro</td>\n",
       "      <td>Алматы</td>\n",
       "      <td>1.0</td>\n",
       "      <td>44298.014895</td>\n",
       "      <td>44298.014895</td>\n",
       "      <td>Легковые автомобили</td>\n",
       "      <td>E класс</td>\n",
       "    </tr>\n",
       "    <tr>\n",
       "      <th>51</th>\n",
       "      <td>2019</td>\n",
       "      <td>Сентябрь</td>\n",
       "      <td>Mercur Auto</td>\n",
       "      <td>Audi</td>\n",
       "      <td>A6</td>\n",
       "      <td>2017</td>\n",
       "      <td>Германия</td>\n",
       "      <td>Бензин</td>\n",
       "      <td>2</td>\n",
       "      <td>Steptronic</td>\n",
       "      <td>Quattro</td>\n",
       "      <td>Алматы</td>\n",
       "      <td>1.0</td>\n",
       "      <td>46839.064341</td>\n",
       "      <td>46839.064341</td>\n",
       "      <td>Легковые автомобили</td>\n",
       "      <td>E класс</td>\n",
       "    </tr>\n",
       "  </tbody>\n",
       "</table>\n",
       "</div>"
      ],
      "text/plain": [
       "     год     месяц     компания бренд модель год_выпуска страна_производитель  \\\n",
       "16  2019    Январь  Mercur Auto  Audi     A6        2017             Германия   \n",
       "19  2019    Январь  Mercur Auto  Audi     A6        2017             Германия   \n",
       "37  2019    Апрель  Mercur Auto  Audi     A6        2017             Германия   \n",
       "45  2019    Август  Mercur Auto  Audi     A6        2017             Германия   \n",
       "51  2019  Сентябрь  Mercur Auto  Audi     A6        2017             Германия   \n",
       "\n",
       "   вид_топлива объём_двиг_л коробка_передач тип_привода    регион  количество  \\\n",
       "16      Бензин            2        S-tronic     quattro  Костанай         1.0   \n",
       "19      Бензин            2        S-tronic     quattro  Костанай         1.0   \n",
       "37      Бензин            2        S-tronic     quattro    Алматы         1.0   \n",
       "45      Бензин            2        S-Тronic     Quattro    Алматы         1.0   \n",
       "51      Бензин            2      Steptronic     Quattro    Алматы         1.0   \n",
       "\n",
       "        цена_usd   продажа_usd      сегментация_2013 класс_2013  \n",
       "16  42878.315840  42878.315840  Легковые автомобили    E класс   \n",
       "19  42268.471584  42268.471584  Легковые автомобили    E класс   \n",
       "37  52351.506492  52351.506492  Легковые автомобили    E класс   \n",
       "45  44298.014895  44298.014895  Легковые автомобили    E класс   \n",
       "51  46839.064341  46839.064341  Легковые автомобили    E класс   "
      ]
     },
     "execution_count": 6,
     "metadata": {},
     "output_type": "execute_result"
    }
   ],
   "source": [
    "# 14366 - это очень много, скорее всего это все-таки не дубликаты, как например, покупка Камазов юр.лицом. \n",
    "# Пока не удаляем. Далее посмотрим.\n",
    "\n",
    "df[df.duplicated()].head()"
   ]
  },
  {
   "cell_type": "code",
   "execution_count": 7,
   "id": "c1531d80",
   "metadata": {},
   "outputs": [
    {
     "data": {
      "text/plain": [
       "год                        0\n",
       "месяц                      0\n",
       "компания                   0\n",
       "бренд                      0\n",
       "модель                     0\n",
       "год_выпуска              154\n",
       "страна_производитель       0\n",
       "вид_топлива              912\n",
       "объём_двиг_л            1886\n",
       "коробка_передач         1192\n",
       "тип_привода             2265\n",
       "регион                     0\n",
       "количество                 5\n",
       "цена_usd                   0\n",
       "продажа_usd                0\n",
       "сегментация_2013           0\n",
       "класс_2013                 0\n",
       "dtype: int64"
      ]
     },
     "execution_count": 7,
     "metadata": {},
     "output_type": "execute_result"
    }
   ],
   "source": [
    "df.isna().sum() # посмотрим на количество пропусков"
   ]
  },
  {
   "cell_type": "markdown",
   "id": "accbc616",
   "metadata": {},
   "source": [
    "Больше всего пропусков в столбце \"тип_привода\", \"коробка_передач\", \"объём_двиг_л\"."
   ]
  },
  {
   "cell_type": "code",
   "execution_count": 8,
   "id": "cadf46c3",
   "metadata": {},
   "outputs": [
    {
     "data": {
      "text/plain": [
       "год                     0.00\n",
       "месяц                   0.00\n",
       "компания                0.00\n",
       "бренд                   0.00\n",
       "модель                  0.00\n",
       "год_выпуска             0.47\n",
       "страна_производитель    0.00\n",
       "вид_топлива             2.78\n",
       "объём_двиг_л            5.74\n",
       "коробка_передач         3.63\n",
       "тип_привода             6.89\n",
       "регион                  0.00\n",
       "количество              0.02\n",
       "цена_usd                0.00\n",
       "продажа_usd             0.00\n",
       "сегментация_2013        0.00\n",
       "класс_2013              0.00\n",
       "dtype: float64"
      ]
     },
     "execution_count": 8,
     "metadata": {},
     "output_type": "execute_result"
    }
   ],
   "source": [
    "(df.isna().sum() / len(df)).round(4) * 100"
   ]
  },
  {
   "cell_type": "markdown",
   "id": "7c39d391",
   "metadata": {},
   "source": [
    "Пропуски в столбце \"количество\" (0.02%) точно можно удалить. \"год выпуска\" (0.47% пропусков) - мы тоже не сможем восполнить скорее всего. Также удалим."
   ]
  },
  {
   "cell_type": "markdown",
   "id": "abe9bbd2",
   "metadata": {},
   "source": [
    "### Посмотрим на \"год выпуска\"\n"
   ]
  },
  {
   "cell_type": "code",
   "execution_count": 9,
   "id": "2a19547b",
   "metadata": {},
   "outputs": [
    {
     "data": {
      "text/plain": [
       "array(['2017', '2018', '2016', '2011', '2015', nan, '2014', '2013',\n",
       "       '2012', '2\\xa0018', '2\\xa0017', '2\\xa0016', 2018, 2017, 2015, 2016],\n",
       "      dtype=object)"
      ]
     },
     "execution_count": 9,
     "metadata": {},
     "output_type": "execute_result"
    }
   ],
   "source": [
    "df.год_выпуска.unique()"
   ]
  },
  {
   "cell_type": "code",
   "execution_count": 10,
   "id": "72c39817",
   "metadata": {},
   "outputs": [
    {
     "name": "stdout",
     "output_type": "stream",
     "text": [
      "<class 'pandas.core.frame.DataFrame'>\n",
      "RangeIndex: 32700 entries, 0 to 32699\n",
      "Data columns (total 17 columns):\n",
      " #   Column                Non-Null Count  Dtype  \n",
      "---  ------                --------------  -----  \n",
      " 0   год                   32700 non-null  int64  \n",
      " 1   месяц                 32700 non-null  object \n",
      " 2   компания              32700 non-null  object \n",
      " 3   бренд                 32700 non-null  object \n",
      " 4   модель                32700 non-null  object \n",
      " 5   год_выпуска           32700 non-null  int32  \n",
      " 6   страна_производитель  32700 non-null  object \n",
      " 7   вид_топлива           31829 non-null  object \n",
      " 8   объём_двиг_л          30922 non-null  object \n",
      " 9   коробка_передач       31617 non-null  object \n",
      " 10  тип_привода           30477 non-null  object \n",
      " 11  регион                32700 non-null  object \n",
      " 12  количество            32695 non-null  float64\n",
      " 13  цена_usd              32700 non-null  float64\n",
      " 14  продажа_usd           32700 non-null  float64\n",
      " 15  сегментация_2013      32700 non-null  object \n",
      " 16  класс_2013            32700 non-null  object \n",
      "dtypes: float64(3), int32(1), int64(1), object(12)\n",
      "memory usage: 4.1+ MB\n"
     ]
    },
    {
     "data": {
      "text/plain": [
       "None"
      ]
     },
     "metadata": {},
     "output_type": "display_data"
    },
    {
     "data": {
      "text/plain": [
       "array([2017, 2018, 2016, 2011, 2015, 2014, 2013, 2012])"
      ]
     },
     "metadata": {},
     "output_type": "display_data"
    }
   ],
   "source": [
    "df['год_выпуска'] = df['год_выпуска'].replace(r'\\s+','',regex=True) # удаляем возможные пробелы - ошибки ввода (например, 2 018)\n",
    "df = df.dropna(subset=['год_выпуска']) # удаляем пропуски\n",
    "df = df.reset_index(drop=True)\n",
    "df[['год_выпуска']] = df[['год_выпуска']].astype(int)\n",
    "display(df.info())\n",
    "display(df.год_выпуска.unique())"
   ]
  },
  {
   "cell_type": "markdown",
   "id": "23171b2a",
   "metadata": {},
   "source": [
    "### Посмотрим на столбец \"компания\""
   ]
  },
  {
   "cell_type": "code",
   "execution_count": 11,
   "id": "9ea714d4",
   "metadata": {},
   "outputs": [
    {
     "data": {
      "text/plain": [
       "array(['Mercur Auto', 'Автоцентр-Бавария', 'БИПЭК АВТО', 'Вираж',\n",
       "       'Sivi Finance Consulting', 'Eurasia Motor Premium',\n",
       "       'Daewoo Bus Kazakhstan', 'Caspian Motors', 'Каспиан Моторс',\n",
       "       'СемАЗ', 'ТК Рос-Авто', 'Astana Motors',\n",
       "       'Hyundai Com Trans Kazakhstan ', 'Nissan Manufacturing RUS', 'СВС',\n",
       "       'СВС-ТРАНС', 'Allur Auto', 'Jaguar Land Rover', 'ТК КАМАЗ',\n",
       "       'Toyota Motor Kazakhstan', 'Лифан Моторс Рус',\n",
       "       'MAN Truck & Bus Kazakhstan', 'Автомир ГК', 'Autokapital',\n",
       "       'MMC RUS', 'ММС Рус', 'УзАвто-Казахстан', 'Алматы АТО',\n",
       "       'Renault Россия', 'Scania Central Asia', 'Subaru Kazakhstan',\n",
       "       'SMC', 'Scandinavian Motors', 'Хино Моторс Казахстан',\n",
       "       'Hino Motors Kazakhstan'], dtype=object)"
      ]
     },
     "execution_count": 11,
     "metadata": {},
     "output_type": "execute_result"
    }
   ],
   "source": [
    "df.компания.unique()\n"
   ]
  },
  {
   "cell_type": "markdown",
   "id": "f56ae429",
   "metadata": {},
   "source": [
    "Есть задвоения: \n",
    "* 'CaspianMotors' - 'КаспианМоторс',\n",
    "* 'MMCRUS'- 'ММСРус',\n",
    "* 'ХиноМоторсКазахстан' - 'HinoMotorsKazakhstan'\n",
    "Переименуем их все в русский вариант\n"
   ]
  },
  {
   "cell_type": "code",
   "execution_count": 12,
   "id": "ac5f9551",
   "metadata": {},
   "outputs": [
    {
     "data": {
      "text/plain": [
       "array(['Mercur Auto', 'Автоцентр-Бавария', 'БИПЭК АВТО', 'Вираж',\n",
       "       'Sivi Finance Consulting', 'Eurasia Motor Premium',\n",
       "       'Daewoo Bus Kazakhstan', 'Каспиан Моторс', 'СемАЗ', 'ТК Рос-Авто',\n",
       "       'Astana Motors', 'Hyundai Com Trans Kazakhstan ',\n",
       "       'Nissan Manufacturing RUS', 'СВС', 'СВС-ТРАНС', 'Allur Auto',\n",
       "       'Jaguar Land Rover', 'ТК КАМАЗ', 'Toyota Motor Kazakhstan',\n",
       "       'Лифан Моторс Рус', 'MAN Truck & Bus Kazakhstan', 'Автомир ГК',\n",
       "       'Autokapital', 'ММС Рус', 'УзАвто-Казахстан', 'Алматы АТО',\n",
       "       'Renault Россия', 'Scania Central Asia', 'Subaru Kazakhstan',\n",
       "       'SMC', 'Scandinavian Motors', 'Hino Motors Kazakhstan'],\n",
       "      dtype=object)"
      ]
     },
     "execution_count": 12,
     "metadata": {},
     "output_type": "execute_result"
    }
   ],
   "source": [
    "df = df.replace({'компания':{'Caspian Motors':'Каспиан Моторс', 'MMC RUS':'ММС Рус', 'Хино Моторс Казахстан':'Hino Motors Kazakhstan'}})\n",
    "df.компания.unique()\n"
   ]
  },
  {
   "cell_type": "markdown",
   "id": "dfba28e2",
   "metadata": {},
   "source": [
    "### Посмотрим на столбцы бренд и модель"
   ]
  },
  {
   "cell_type": "code",
   "execution_count": 13,
   "id": "b65526ff",
   "metadata": {},
   "outputs": [
    {
     "data": {
      "text/plain": [
       "array(['Audi', 'BMW', 'Chevrolet', 'Daewoo', 'Ford', 'Foton', 'GAZ',\n",
       "       'Hyundai', 'Hyundai Truck & Bus', 'Infiniti', 'Isuzu', 'Iveco',\n",
       "       'Jac', 'Jaguar', 'KAMAZ', 'Kia', 'Lada', 'Land Rover', 'Lexus',\n",
       "       'Lifan', 'MAN', 'Mazda', 'Mercedes-Benz', 'Mercedes-Benz Trucks',\n",
       "       'Mini', 'Mitsubishi', 'Nissan', 'Peugeot', 'Porsche', 'Ravon',\n",
       "       'Renault', 'Scania', 'Shacman', 'Skoda', 'SsangYong', 'Subaru',\n",
       "       'Suzuki', 'Toyota', 'UAZ', 'Volkswagen', 'Volvo', 'Урал', 'МАЗ',\n",
       "       'Cadillac', 'ANKAI', 'Hino', 'Rolls Royce'], dtype=object)"
      ]
     },
     "execution_count": 13,
     "metadata": {},
     "output_type": "execute_result"
    }
   ],
   "source": [
    "df.бренд.unique()"
   ]
  },
  {
   "cell_type": "code",
   "execution_count": 14,
   "id": "e133abfa",
   "metadata": {},
   "outputs": [
    {
     "data": {
      "text/plain": [
       "array(['A3', 'A4', 'A5', 'A6', 'A7', 'A8', 'Q5', 'Q7', '1 серия',\n",
       "       '2 серия', '3 серия', '4 серия', '5 серия', '6 серия', '7 серия',\n",
       "       'i3', 'X1', 'X3', 'X4', 'X5', 'X6', 'Aveo', 'Captiva', 'Niva',\n",
       "       'Tahoe', 'Tracker', 'BS 106 A', 'EcoSport', 'Explorer', 'Fiesta',\n",
       "       'Focus', 'Kuga', 'Mondeo', 'Transit', 'Transit Custom',\n",
       "       'BJ1032V3JB3-S', 'BJ3143DKPGA-1', 'BJ3253DMPKB-AD',\n",
       "       'BJ5032V3BB3-S', 'BJ5163VKCHN-1', '2217', '2310', '2705', '2752',\n",
       "       '3221', '3302', '3308', '3309', 'Next', 'Accent', 'Creta',\n",
       "       'Elantra', 'Genesis G90', 'Grandeur', 'Santa Fe', 'Sonata',\n",
       "       'TQ-1/H-1', 'County', 'H350', 'HD 160', 'HD 170', 'HD 260',\n",
       "       'HD 65', 'HD 72', 'HD 78', 'Universe', 'Tucson', 'Q30', 'Q50',\n",
       "       'QX30', 'QX50', 'QX60', 'QX70', 'QX80', 'D-MAX', 'FVR34', 'NMR',\n",
       "       'NPR', 'NQR71', 'Daily', 'Daily A', 'Daily V', 'Stralis', 'Tipper',\n",
       "       'S3', 'S5', 'F-Pace', 'XE', 'XF', '4308', '43114', '43118',\n",
       "       '43253', '43502', '44108', '45142', '45143', '53215', '5350',\n",
       "       '53504', '53605', '5490', '5814', '6460', '65111', '65115',\n",
       "       '65116', '65117', '6520', '65206', '65225', '65806', '66052',\n",
       "       '66062', '66065', 'КО 829Б ', 'КО-505А', 'Cerato', 'Optima',\n",
       "       'Picanto', 'Quoris', 'Rio', 'Sorento', 'Soul', 'Sportage', '4x4',\n",
       "       '4x4 Pickup', 'Granta', 'Kalina', 'Largus', 'Vesta', 'XRAY', 'ВИС',\n",
       "       'Discovery', 'Discovery Sport', 'Range Rover',\n",
       "       'Range Rover Evoque', 'Range Rover Sport', 'ES', 'GX', 'LS', 'LX',\n",
       "       'NX', 'RX', 'RXH', 'Murman', 'Solano', 'X50', 'X60', 'TG', '3',\n",
       "       '6', 'CX-5', 'A-Class', 'C-Class', 'CLA-Class', 'E-Class',\n",
       "       'G-Class', 'GLA-Class', 'GLC-Class', 'GLE-Class', 'GLS-Class',\n",
       "       'Maybach S500', 'S-Class', 'Actros', 'Sprinter', 'Tourismo',\n",
       "       'V-Class', 'Vito', 'Cooper', 'Countryman', 'ASX', 'Outlander',\n",
       "       'Pajero IV', 'Pajero Sport', 'Almera', 'Juke', 'Murano', 'Qashqai',\n",
       "       'Terrano', 'X-Trail', '3008', '301', '508', 'Partner Panel Van',\n",
       "       'Partner Tepee', '911 Carrera S', 'Boxter', 'Cayenne', 'Macan',\n",
       "       'Panamera', 'Gentra', 'Nexia R3', 'R2', 'R4', 'Duster', 'Kaptur',\n",
       "       'Koleos', 'Logan', 'Sandero', 'G-Series', 'P-Series', 'R-Series',\n",
       "       'SX3256DR384', 'SX5256GJBDR384', 'Octavia', 'Rapid', 'Superb B6',\n",
       "       'New Actyon', 'Nomad', 'Tivoli', 'Forester', 'Legacy', 'Outback',\n",
       "       'XV', 'Jimny', 'SX4', 'Camry', 'Corolla', 'Hiace', 'HIGHLANDER',\n",
       "       'HILUX DC', 'LC Prado', 'LC200', 'RAV4', '2206', '2360', '3151',\n",
       "       '3303', '3741', '3909', '3962', 'Cargo', 'Patriot',\n",
       "       'Patriot Pickup', 'Amarok', 'Caravelle', 'Crafter Kasten', 'Jetta',\n",
       "       'Multivan', 'Passat B8', 'Polo', 'Tiguan', 'Touareg',\n",
       "       'Transporter', 'Transporter Kasten', 'XC90', '4320',\n",
       "       '4320-1951-60', '43206-0551', '5557', 'MYWAY', 'ВС 211 МА', 'Q60',\n",
       "       'CX-9', 'HD 35', 'Range Rover Velar', 'BS 106 D', 'Kodiaq',\n",
       "       '5516Х5', 'Escalade', 'GLC Coupe', 'X200', 'E-PACE', 'Dokker',\n",
       "       'LC', 'Eclipse Cross', 'X70', 'R 61', 'N120', 'N75', 'T6',\n",
       "       'SX3258DR384', 'iev', 'S-Series', 'X2', 'N944S', 'S90', 'XC60',\n",
       "       'C-HR', 'ЕА-17У', 'V90 Cross Country', 'HFF6850HGQ4', '300',\n",
       "       'XC40', 'Ghost', '65224', 'FORWARD 18', 'HFF6111K10EV21', 'N56',\n",
       "       'АКН-10', 'XT5', '500'], dtype=object)"
      ]
     },
     "execution_count": 14,
     "metadata": {},
     "output_type": "execute_result"
    }
   ],
   "source": [
    "df.модель.unique()"
   ]
  },
  {
   "cell_type": "markdown",
   "id": "52a360ac",
   "metadata": {},
   "source": [
    "На первый взгяд ошибок нет"
   ]
  },
  {
   "cell_type": "markdown",
   "id": "e9bb5cb6",
   "metadata": {},
   "source": [
    "### Посмотрим столбец вид_топлива"
   ]
  },
  {
   "cell_type": "code",
   "execution_count": 15,
   "id": "fb361574",
   "metadata": {},
   "outputs": [
    {
     "data": {
      "text/plain": [
       "array(['Бензин', 'Дизель', 'гибрид', 'Электрический', nan, '0', 'дизель ',\n",
       "       'Газовый'], dtype=object)"
      ]
     },
     "execution_count": 15,
     "metadata": {},
     "output_type": "execute_result"
    }
   ],
   "source": [
    "df.вид_топлива.unique()"
   ]
  },
  {
   "cell_type": "code",
   "execution_count": 16,
   "id": "8d709640",
   "metadata": {},
   "outputs": [
    {
     "data": {
      "text/plain": [
       "бензин           30114\n",
       "дизель            1592\n",
       "0                  875\n",
       "газовый             70\n",
       "электрический       31\n",
       "гибрид              18\n",
       "Name: вид_топлива, dtype: int64"
      ]
     },
     "metadata": {},
     "output_type": "display_data"
    },
    {
     "data": {
      "text/plain": [
       "array(['бензин', 'дизель', 'гибрид', 'электрический', 0, 'газовый'],\n",
       "      dtype=object)"
      ]
     },
     "execution_count": 16,
     "metadata": {},
     "output_type": "execute_result"
    }
   ],
   "source": [
    "df['вид_топлива'] = df.вид_топлива.str.lower() # делаем все строчными буквы\n",
    "df['вид_топлива'] = df['вид_топлива'].replace(r'\\s+','',regex=True) # удаляем лишние пробелы\n",
    "df['вид_топлива'] = df['вид_топлива'].fillna(0) # заменяем пропуски на 0\n",
    "df = df.replace({'вид_топлива':{'0':0}})\n",
    "display(df['вид_топлива'].value_counts())\n",
    "df.вид_топлива.unique()"
   ]
  },
  {
   "cell_type": "code",
   "execution_count": 17,
   "id": "8f4f9d7d",
   "metadata": {},
   "outputs": [],
   "source": [
    "# не очень хочу удалять 875 записей из-за пропусков, возможно в дальнейшем они повлияют на анализ продаж. "
   ]
  },
  {
   "cell_type": "code",
   "execution_count": 18,
   "id": "e90d6dc3",
   "metadata": {},
   "outputs": [
    {
     "data": {
      "text/plain": [
       "Renault                530\n",
       "Volkswagen              75\n",
       "Land Rover              74\n",
       "Mazda                   44\n",
       "Shacman                 31\n",
       "Isuzu                   28\n",
       "Урал                    21\n",
       "Lada                    19\n",
       "UAZ                     18\n",
       "Foton                   11\n",
       "Jaguar                  11\n",
       "Lexus                    9\n",
       "Infiniti                 3\n",
       "Hyundai Truck & Bus      1\n",
       "Name: бренд, dtype: int64"
      ]
     },
     "execution_count": 18,
     "metadata": {},
     "output_type": "execute_result"
    }
   ],
   "source": [
    "df[df['вид_топлива'] == 0].бренд.value_counts()"
   ]
  },
  {
   "cell_type": "markdown",
   "id": "fe075f1f",
   "metadata": {},
   "source": [
    "### Посмотрим столбец объём_двиг_л \n",
    "\n"
   ]
  },
  {
   "cell_type": "code",
   "execution_count": 19,
   "id": "b5c79130",
   "metadata": {},
   "outputs": [
    {
     "data": {
      "text/plain": [
       "array(['1.4', '2', '3', '1.5', '4.4', '6.6', nan, '0', '1.8', '1.596',\n",
       "       '1596', '2.4', '3000', '2400', '1.7', '6.2', '1800', '1400 turbo',\n",
       "       '1,4 Turbo', '2.5', '1.6', '3.5', '2.2', '2.7', '2.8', '4.2', '5',\n",
       "       '3.9', '7.5', '11', '3.933', '12.3', '1,6 T-GDI', '3.7', '5.6',\n",
       "       '7.8', '2.9', '5.2', '10.3', '8.7', '1600', '1.998', '1.598',\n",
       "       '1.248', '2.359', '2359', '1999', '3.8', '3800', '1.591', '1.368',\n",
       "       '3.342', '3.47', '3470', '2000', '1.999', '1.69', '1690', '1.774',\n",
       "       '1598', '1774', '4.9', '4.6', '3,5', '5.7', '10.5', '6.7', '4',\n",
       "       '5.5', '12', '1.2', '3.6', '6.5', '4.5', '1.25', '1.3', '0.002',\n",
       "       '0.0016', '1998', '13', '16', '1400', '2.3', '1.33', '2,4G',\n",
       "       '2.693', '2693', '2.235', '2235', '2.0', '14860', '14.8', '17.5',\n",
       "       '1,2T', '4.88', 4.88, 4.0, 2.0, 6.6, 7.8, 2.8, 3.6], dtype=object)"
      ]
     },
     "execution_count": 19,
     "metadata": {},
     "output_type": "execute_result"
    }
   ],
   "source": [
    "df.объём_двиг_л.unique()\n"
   ]
  },
  {
   "cell_type": "code",
   "execution_count": 20,
   "id": "fe8da54a",
   "metadata": {},
   "outputs": [],
   "source": [
    "df['объём_двиг_л'] = df['объём_двиг_л'].str.replace(',','.')\n",
    "df['объём_двиг_л'] = df['объём_двиг_л'].str.replace('[A-Za-z]','',regex=True)\n",
    "df['объём_двиг_л'] = df['объём_двиг_л'].str.replace('-','')\n",
    "df['объём_двиг_л'] = df['объём_двиг_л'].replace(' ','')\n",
    "df['объём_двиг_л'] = df['объём_двиг_л'].replace('2/2.5','2')\n",
    "df['объём_двиг_л'] = df['объём_двиг_л'].replace('0', 0)\n",
    "df['объём_двиг_л'] = df['объём_двиг_л'].fillna(0)\n",
    "df[['объём_двиг_л']] = df[['объём_двиг_л']].astype(float)"
   ]
  },
  {
   "cell_type": "code",
   "execution_count": 21,
   "id": "2f7ca653",
   "metadata": {},
   "outputs": [
    {
     "data": {
      "text/plain": [
       "array(['Субкомпактные SUV ', 'C класс '], dtype=object)"
      ]
     },
     "metadata": {},
     "output_type": "display_data"
    },
    {
     "data": {
      "text/plain": [
       "array(['Крупнотоннажные грузовики '], dtype=object)"
      ]
     },
     "metadata": {},
     "output_type": "display_data"
    },
    {
     "data": {
      "text/plain": [
       "array(['F класс '], dtype=object)"
      ]
     },
     "execution_count": 21,
     "metadata": {},
     "output_type": "execute_result"
    }
   ],
   "source": [
    "display(df[df['объём_двиг_л'] == 1400].класс_2013.unique()) # посмотрим на некоторые объемы\n",
    "display(df[df['объём_двиг_л'] == 14860].класс_2013.unique())\n",
    "df[df['объём_двиг_л'] == 3800].класс_2013.unique()"
   ]
  },
  {
   "cell_type": "markdown",
   "id": "34fe70d8",
   "metadata": {},
   "source": [
    "Это явно ошибка ввода, когда 1.4 литра вносят, как 1400 куб.см. Исправим"
   ]
  },
  {
   "cell_type": "code",
   "execution_count": 22,
   "id": "51a5d74d",
   "metadata": {},
   "outputs": [
    {
     "data": {
      "text/plain": [
       "array([ 1.4,  2. ,  3. ,  1.5,  4.4,  6.6,  0. ,  1.8,  1.6,  2.4,  1.7,\n",
       "        6.2,  2.5,  3.5,  2.2,  2.7,  2.8,  4.2,  5. ,  3.9,  7.5, 11. ,\n",
       "       12.3,  3.7,  5.6,  7.8,  2.9,  5.2, 10.3,  8.7,  1.2,  3.8,  3.3,\n",
       "        4.9,  4.6,  5.7, 10.5,  6.7,  4. ,  5.5, 12. ,  3.6,  6.5,  4.5,\n",
       "        1.3, 13. , 16. ,  2.3, 14.9, 14.8, 17.5])"
      ]
     },
     "execution_count": 22,
     "metadata": {},
     "output_type": "execute_result"
    }
   ],
   "source": [
    "df.loc[df['объём_двиг_л'] > 100, 'объём_двиг_л'] = df['объём_двиг_л']/1000\n",
    "df['объём_двиг_л'] = np.round(df['объём_двиг_л'], decimals = 1)\n",
    "df.объём_двиг_л.unique()\n",
    "\n",
    "# убрали все не цифровые элементы, заменили запятую на точку. \n",
    "# А также исправили ошибку ввода, когда объем двигателя указан без точки."
   ]
  },
  {
   "cell_type": "code",
   "execution_count": 23,
   "id": "b60f9002",
   "metadata": {},
   "outputs": [
    {
     "data": {
      "text/html": [
       "<div>\n",
       "<style scoped>\n",
       "    .dataframe tbody tr th:only-of-type {\n",
       "        vertical-align: middle;\n",
       "    }\n",
       "\n",
       "    .dataframe tbody tr th {\n",
       "        vertical-align: top;\n",
       "    }\n",
       "\n",
       "    .dataframe thead th {\n",
       "        text-align: right;\n",
       "    }\n",
       "</style>\n",
       "<table border=\"1\" class=\"dataframe\">\n",
       "  <thead>\n",
       "    <tr style=\"text-align: right;\">\n",
       "      <th></th>\n",
       "      <th>год</th>\n",
       "      <th>месяц</th>\n",
       "      <th>компания</th>\n",
       "      <th>бренд</th>\n",
       "      <th>модель</th>\n",
       "      <th>год_выпуска</th>\n",
       "      <th>страна_производитель</th>\n",
       "      <th>вид_топлива</th>\n",
       "      <th>объём_двиг_л</th>\n",
       "      <th>коробка_передач</th>\n",
       "      <th>тип_привода</th>\n",
       "      <th>регион</th>\n",
       "      <th>количество</th>\n",
       "      <th>цена_usd</th>\n",
       "      <th>продажа_usd</th>\n",
       "      <th>сегментация_2013</th>\n",
       "      <th>класс_2013</th>\n",
       "    </tr>\n",
       "  </thead>\n",
       "  <tbody>\n",
       "  </tbody>\n",
       "</table>\n",
       "</div>"
      ],
      "text/plain": [
       "Empty DataFrame\n",
       "Columns: [год, месяц, компания, бренд, модель, год_выпуска, страна_производитель, вид_топлива, объём_двиг_л, коробка_передач, тип_привода, регион, количество, цена_usd, продажа_usd, сегментация_2013, класс_2013]\n",
       "Index: []"
      ]
     },
     "metadata": {},
     "output_type": "display_data"
    },
    {
     "data": {
      "text/plain": [
       "array(['Среднетоннажные грузовики ', 'Крупнотоннажные грузовики ',\n",
       "       'Большие автобусы ', 'Малотоннажные грузовики '], dtype=object)"
      ]
     },
     "execution_count": 23,
     "metadata": {},
     "output_type": "execute_result"
    }
   ],
   "source": [
    "display(df.loc[(df['объём_двиг_л'] > 4) & (df['сегментация_2013'] == 'Легковые автомобили')])\n",
    "df[df['объём_двиг_л'] > 7].класс_2013.unique()\n"
   ]
  },
  {
   "cell_type": "code",
   "execution_count": 24,
   "id": "cf44fa80",
   "metadata": {},
   "outputs": [
    {
     "data": {
      "text/plain": [
       "KAMAZ                  888\n",
       "Renault                647\n",
       "Land Rover              87\n",
       "Volkswagen              77\n",
       "Isuzu                   76\n",
       "Jac                     48\n",
       "Mazda                   44\n",
       "ANKAI                   37\n",
       "Hino                    33\n",
       "Shacman                 31\n",
       "Урал                    21\n",
       "Foton                   11\n",
       "Jaguar                  10\n",
       "Infiniti                 8\n",
       "Lexus                    8\n",
       "Peugeot                  6\n",
       "BMW                      2\n",
       "MAN                      2\n",
       "Hyundai Truck & Bus      1\n",
       "Volvo                    1\n",
       "Rolls Royce              1\n",
       "Cadillac                 1\n",
       "Name: бренд, dtype: int64"
      ]
     },
     "metadata": {},
     "output_type": "display_data"
    }
   ],
   "source": [
    "display(df[df['объём_двиг_л'] == 0].бренд.value_counts())"
   ]
  },
  {
   "cell_type": "code",
   "execution_count": 25,
   "id": "6e8cf447",
   "metadata": {},
   "outputs": [
    {
     "data": {
      "text/plain": [
       "count    32700.000000\n",
       "mean         2.124648\n",
       "std          1.085407\n",
       "min          0.000000\n",
       "25%          1.600000\n",
       "50%          2.000000\n",
       "75%          2.500000\n",
       "max         17.500000\n",
       "Name: объём_двиг_л, dtype: float64"
      ]
     },
     "execution_count": 25,
     "metadata": {},
     "output_type": "execute_result"
    }
   ],
   "source": [
    "df['объём_двиг_л'].describe()"
   ]
  },
  {
   "cell_type": "code",
   "execution_count": 26,
   "id": "a83b92be",
   "metadata": {},
   "outputs": [
    {
     "data": {
      "text/plain": [
       "array([[<AxesSubplot:title={'center':'объём_двиг_л'}>]], dtype=object)"
      ]
     },
     "execution_count": 26,
     "metadata": {},
     "output_type": "execute_result"
    },
    {
     "data": {
      "image/png": "[encoded data removed]",
      "text/plain": [
       "<Figure size 432x288 with 1 Axes>"
      ]
     },
     "metadata": {
      "needs_background": "light"
     },
     "output_type": "display_data"
    }
   ],
   "source": [
    "df.hist(column='объём_двиг_л', bins=10)"
   ]
  },
  {
   "cell_type": "code",
   "execution_count": 27,
   "id": "cfb2e0a0",
   "metadata": {},
   "outputs": [
    {
     "data": {
      "text/plain": [
       "<AxesSubplot:>"
      ]
     },
     "execution_count": 27,
     "metadata": {},
     "output_type": "execute_result"
    },
    {
     "data": {
      "image/png": "[encoded data removed]",
      "text/plain": [
       "<Figure size 432x288 with 1 Axes>"
      ]
     },
     "metadata": {
      "needs_background": "light"
     },
     "output_type": "display_data"
    }
   ],
   "source": [
    "df.boxplot(column=['объём_двиг_л'])"
   ]
  },
  {
   "cell_type": "markdown",
   "id": "6e4711da",
   "metadata": {},
   "source": [
    "Основная масса продаваемых машин имеет объем двигателя в пределах 1.6-2.5 л. \n",
    "Все машины с объемом двигателя больше 7 л - это автобусы и грузовики. В пределах от 4 до 7 л находятся люксовые авто и внедорожники."
   ]
  },
  {
   "cell_type": "markdown",
   "id": "2084b1d0",
   "metadata": {},
   "source": [
    "\n",
    "### Посмотрим на столбец \"коробка_передач\""
   ]
  },
  {
   "cell_type": "code",
   "execution_count": 28,
   "id": "fc1f1c5f",
   "metadata": {},
   "outputs": [
    {
     "data": {
      "text/plain": [
       "array(['S-tronic', 'S-Тronic', 'S-Тroic', 'S-troic', 'Steptronic',\n",
       "       'ТipТronic', 'Tiptronic', 'SТepТronic', 'Автомат', 'AT', '6 АТ',\n",
       "       '5 МТ', '6AT', '5MT', '6АТ', '5МТ', 'MT', 'МТ', 'MТ', '6АT', '6MT',\n",
       "       'Powershift S6', 'PowershiftS6', 'PowershifТS6', '6МТ', '6MТ', 0,\n",
       "       'Мех.', 'МКПП', '6 AT', '6 MT', '8АТ', '5AT', '5АТ', '7DCT',\n",
       "       '7 DCT', '7DCТ', 'АТ', 'CVT', 'N', 'CVT(вариатор)', 'CVТ', '6 МТ',\n",
       "       '4АТ', '8 АТ', '8AT', '4 АТ', 'AMT', '4AT', 'АКПП6', 'АКПП4',\n",
       "       '9AT', 'АКПП', 'АКПП8', 'МКПП4', 'МКПП5', 'CVT (вариатор)',\n",
       "       'CVT(вариATор)', 'CVТ(вариатор)', '9АТ', '12AT', '7AT', '7АТ',\n",
       "       '6М/Т', '6M/T', '6M/Т', '0', 'PDK', '8АКПП', '8-ступ АКПП', '8',\n",
       "       ' -', '-', '7 DSG', '7DSG', '6 DSG', '6DSG', 'CVТ(вАриАтор)',\n",
       "       '5MТ', 'АТ (автомат)', '8 AT 4Motion', '8АТ4МoТion', '6A', '5M',\n",
       "       '6-ступАКПП', '6А', 'AT (автомат)', '7DSG4МoТion', '6Aвтомат',\n",
       "       '6Aатомат', '5М', '5-ступМТ', 'АT', 'A/T', '7АT', 'МТ (механика)',\n",
       "       'Механическая'], dtype=object)"
      ]
     },
     "execution_count": 28,
     "metadata": {},
     "output_type": "execute_result"
    }
   ],
   "source": [
    "df['коробка_передач'] = df['коробка_передач'].fillna(0)\n",
    "df.коробка_передач.unique()"
   ]
  },
  {
   "cell_type": "code",
   "execution_count": 29,
   "id": "f949737c",
   "metadata": {},
   "outputs": [
    {
     "data": {
      "text/plain": [
       "array([0, 'AT', 'MT'], dtype=object)"
      ]
     },
     "metadata": {},
     "output_type": "display_data"
    },
    {
     "data": {
      "text/plain": [
       "AT    21212\n",
       "MT    10212\n",
       "0      1276\n",
       "Name: коробка_передач, dtype: int64"
      ]
     },
     "execution_count": 29,
     "metadata": {},
     "output_type": "execute_result"
    }
   ],
   "source": [
    "dict_mt = ['ех', 'МК', 'MT', 'МТ', 'MТ', 'M/T', 'М/Т', 'M/Т', '5M', '5М']\n",
    "dict_nan = ['0', ' -', '-']\n",
    "for x in dict_mt:\n",
    "    df.loc[df['коробка_передач'].str.contains(x)==True, 'коробка_передач'] = 'MT'\n",
    "for x in dict_nan:\n",
    "     df.loc[df['коробка_передач'].str.contains(x)==True, 'коробка_передач'] = 0\n",
    "\n",
    "df.loc[~df['коробка_передач'].isin(['MT',0]), 'коробка_передач'] = 'AT'\n",
    "display(df.коробка_передач.unique())\n",
    "df['коробка_передач'].value_counts()"
   ]
  },
  {
   "cell_type": "code",
   "execution_count": 30,
   "id": "6be4e515",
   "metadata": {},
   "outputs": [
    {
     "data": {
      "text/plain": [
       "Renault                649\n",
       "Isuzu                  115\n",
       "Land Rover             100\n",
       "Volkswagen              82\n",
       "Audi                    73\n",
       "Mercedes-Benz           59\n",
       "Mazda                   44\n",
       "Shacman                 31\n",
       "Урал                    21\n",
       "Jac                     18\n",
       "Scania                  17\n",
       "Jaguar                  15\n",
       "Foton                   11\n",
       "Lexus                    8\n",
       "Nissan                   8\n",
       "Infiniti                 8\n",
       "Porsche                  7\n",
       "Peugeot                  6\n",
       "SsangYong                2\n",
       "MAN                      1\n",
       "Hyundai Truck & Bus      1\n",
       "Name: бренд, dtype: int64"
      ]
     },
     "execution_count": 30,
     "metadata": {},
     "output_type": "execute_result"
    }
   ],
   "source": [
    "df[df['коробка_передач'] == 0].бренд.value_counts()"
   ]
  },
  {
   "cell_type": "markdown",
   "id": "677bc0e9",
   "metadata": {},
   "source": [
    "Привели все разномастные названия коробки передач к двум типам: Автомат (АТ) и механическая коробка (МТ). пропуски значений заменили на 0. Далее посмотрим, что с этим делать."
   ]
  },
  {
   "cell_type": "markdown",
   "id": "6c8ee96b",
   "metadata": {},
   "source": [
    "### Посмотрим на столбец \"тип_привода\""
   ]
  },
  {
   "cell_type": "code",
   "execution_count": 31,
   "id": "1f2a1b24",
   "metadata": {},
   "outputs": [
    {
     "data": {
      "text/plain": [
       "array([nan, 'FWD', 'передний', 'quattro', 'Quattro', 'RWD', '4WD',\n",
       "       'Полный', 'Задний', 'AWD', 'Передний', '4х2.2', 'Полный ',\n",
       "       'задний', '2WD', '2 WD', '4 WD', '4х4', '4х2', '4x2', 'FR', '2х4',\n",
       "       '4x4', 'CVT', '0', ' -', '-', 'P/TIME', 'FF', 'полный', '4Motion',\n",
       "       'передний '], dtype=object)"
      ]
     },
     "execution_count": 31,
     "metadata": {},
     "output_type": "execute_result"
    }
   ],
   "source": [
    "df.тип_привода.unique()"
   ]
  },
  {
   "cell_type": "code",
   "execution_count": 32,
   "id": "9e2e1d71",
   "metadata": {},
   "outputs": [
    {
     "data": {
      "text/plain": [
       "array([0, 'FWD', '4WD', 'RWD', '2WD'], dtype=object)"
      ]
     },
     "metadata": {},
     "output_type": "display_data"
    },
    {
     "data": {
      "text/plain": [
       "4WD    12143\n",
       "FWD     9858\n",
       "2WD     6428\n",
       "0       2345\n",
       "RWD     1926\n",
       "Name: тип_привода, dtype: int64"
      ]
     },
     "execution_count": 32,
     "metadata": {},
     "output_type": "execute_result"
    }
   ],
   "source": [
    "df['тип_привода'] = df['тип_привода'].fillna(0)\n",
    "for x in dict_nan:\n",
    "     df.loc[df['тип_привода'].str.contains(x)==True, 'тип_привода'] = 0\n",
    "dict_4WD = ['4WD', 'uattro', 'олн', '4х4', '4x4', '4 WD', '4Motion', 'AWD']  \n",
    "dict_FWD = ['FWD', 'еред', 'FF', 'P/TIME']\n",
    "dict_RWD = ['RWD', 'ад', 'FR']\n",
    "for x in dict_4WD:\n",
    "    df.loc[df['тип_привода'].str.contains(x)==True, 'тип_привода'] = '4WD'\n",
    "for x in dict_FWD:\n",
    "    df.loc[df['тип_привода'].str.contains(x)==True, 'тип_привода'] = 'FWD'  \n",
    "for x in dict_RWD:\n",
    "    df.loc[df['тип_привода'].str.contains(x)==True, 'тип_привода'] = 'RWD'    \n",
    "df.loc[~df['тип_привода'].isin(['4WD', 'FWD', 'RWD',0]), 'тип_привода'] = '2WD'    \n",
    "\n",
    "display(df.тип_привода.unique())\n",
    "df['тип_привода'].value_counts()"
   ]
  },
  {
   "cell_type": "markdown",
   "id": "09d15c58",
   "metadata": {},
   "source": [
    "Привели тип привода к единообразию:\n",
    "* 4WD- полный привод\n",
    "* FWD - передний привод\n",
    "* RWD - задний привод \n",
    "* 2WD - привод на 2 колеса, но не указан конкретно его тип.\n",
    "* 0 - пропущенные значения - всего 2387. пока также не убираю."
   ]
  },
  {
   "cell_type": "code",
   "execution_count": 33,
   "id": "5f42b290",
   "metadata": {},
   "outputs": [
    {
     "data": {
      "text/plain": [
       "KAMAZ                  888\n",
       "Renault                789\n",
       "Volkswagen             322\n",
       "Land Rover             124\n",
       "Mazda                   44\n",
       "Isuzu                   41\n",
       "Shacman                 31\n",
       "Урал                    21\n",
       "Lada                    19\n",
       "Scania                  17\n",
       "Jaguar                  13\n",
       "Foton                   11\n",
       "Lexus                    8\n",
       "Infiniti                 8\n",
       "MAN                      5\n",
       "МАЗ                      2\n",
       "Hyundai Truck & Bus      1\n",
       "Audi                     1\n",
       "Name: бренд, dtype: int64"
      ]
     },
     "metadata": {},
     "output_type": "display_data"
    }
   ],
   "source": [
    "display(df[df['тип_привода'] == 0].бренд.value_counts())"
   ]
  },
  {
   "cell_type": "code",
   "execution_count": null,
   "id": "7eafea0b",
   "metadata": {},
   "outputs": [],
   "source": []
  },
  {
   "cell_type": "markdown",
   "id": "9ce0d6d2",
   "metadata": {},
   "source": [
    "### Посмотрим на столбец \"регион\""
   ]
  },
  {
   "cell_type": "code",
   "execution_count": 34,
   "id": "0569afe3",
   "metadata": {},
   "outputs": [
    {
     "data": {
      "text/plain": [
       "array(['Алматы', 'Костанай', 'Атырау', 'Астана', 'Уральск',\n",
       "       'Усть-Каменогорск', 'Петропавловск', 'Павлодар', 'Кокшетау',\n",
       "       'Актау', 'Семей', 'Караганда', 'Актобе', 'Шымкент', 'Талдыкорган',\n",
       "       'Кызылорда', 'Экибастуз', 'Рудный', 'Тараз', 'Аксай', 'Щучинск',\n",
       "       'ЭКСПОРТ', 'Риддер', 'Шемонаиха'], dtype=object)"
      ]
     },
     "metadata": {},
     "output_type": "display_data"
    },
    {
     "data": {
      "text/plain": [
       "Шемонаиха              1\n",
       "Щучинск                4\n",
       "Аксай                  5\n",
       "Рудный                38\n",
       "Риддер                59\n",
       "Экибастуз             89\n",
       "Талдыкорган          189\n",
       "Тараз                254\n",
       "Семей                268\n",
       "ЭКСПОРТ              298\n",
       "Кокшетау             392\n",
       "Петропавловск        462\n",
       "Кызылорда            526\n",
       "Павлодар            1004\n",
       "Усть-Каменогорск    1157\n",
       "Актобе              1210\n",
       "Актау               1245\n",
       "Уральск             1456\n",
       "Караганда           1712\n",
       "Шымкент             2021\n",
       "Костанай            2027\n",
       "Атырау              2074\n",
       "Астана              7012\n",
       "Алматы              9197\n",
       "Name: регион, dtype: int64"
      ]
     },
     "execution_count": 34,
     "metadata": {},
     "output_type": "execute_result"
    }
   ],
   "source": [
    "display(df.регион.unique())\n",
    "df['регион'].value_counts().sort_values()"
   ]
  },
  {
   "cell_type": "markdown",
   "id": "61f15e28",
   "metadata": {},
   "source": [
    "Задвоений в названиях нет, пропущенных знаков, лишних пробелов тоже."
   ]
  },
  {
   "cell_type": "markdown",
   "id": "55bbe85c",
   "metadata": {},
   "source": [
    "### Посмотрим на столбец \"сегментация_2013\""
   ]
  },
  {
   "cell_type": "code",
   "execution_count": 35,
   "id": "2e52246f",
   "metadata": {},
   "outputs": [
    {
     "data": {
      "text/plain": [
       "array(['Легковые автомобили ', 'Внедорожники ',\n",
       "       'Коммерческие автомобили ', 'Минивэны', 'Пикапы '], dtype=object)"
      ]
     },
     "metadata": {},
     "output_type": "display_data"
    }
   ],
   "source": [
    "display(df.сегментация_2013.unique())"
   ]
  },
  {
   "cell_type": "code",
   "execution_count": 36,
   "id": "5da9927d",
   "metadata": {},
   "outputs": [
    {
     "data": {
      "text/plain": [
       "array(['Легковые автомобили', 'Внедорожники', 'Коммерческие автомобили',\n",
       "       'Минивэны', 'Пикапы'], dtype=object)"
      ]
     },
     "metadata": {},
     "output_type": "display_data"
    },
    {
     "data": {
      "text/plain": [
       "Минивэны                      61\n",
       "Пикапы                       877\n",
       "Коммерческие автомобили     4238\n",
       "Легковые автомобили        13303\n",
       "Внедорожники               14221\n",
       "Name: сегментация_2013, dtype: int64"
      ]
     },
     "execution_count": 36,
     "metadata": {},
     "output_type": "execute_result"
    }
   ],
   "source": [
    "df['сегментация_2013'] = df['сегментация_2013'].str.rstrip() # убрали пробелы в конце\n",
    "display(df.сегментация_2013.unique())\n",
    "df['сегментация_2013'].value_counts().sort_values()"
   ]
  },
  {
   "cell_type": "markdown",
   "id": "32e59a71",
   "metadata": {},
   "source": [
    "### Посмотрим на столбец \"Класс 2013\""
   ]
  },
  {
   "cell_type": "code",
   "execution_count": 37,
   "id": "b23d8c7d",
   "metadata": {},
   "outputs": [
    {
     "data": {
      "text/plain": [
       "array(['C класс ', 'D класс ', 'Спортивные автомобили ', 'E класс ',\n",
       "       'F класс ', 'Среднеразмерные SUV ', 'Стандартные SUV ', 'B класс ',\n",
       "       'Компактные SUV ', 'Субкомпактные SUV ', 'Большие автобусы ',\n",
       "       'Микроавтобусы ', 'Малотоннажные грузовики ',\n",
       "       'Крупнотоннажные грузовики ', 'Развозные автомобили ',\n",
       "       'Среднетоннажные грузовики ', 'Полноразмерный Минивэн ',\n",
       "       'Средние автобусы ', 'Полноразмерные SUV ', 'Pick-ups', 'A класс ',\n",
       "       'Компактвэн'], dtype=object)"
      ]
     },
     "metadata": {},
     "output_type": "display_data"
    }
   ],
   "source": [
    "display(df.класс_2013.unique())"
   ]
  },
  {
   "cell_type": "code",
   "execution_count": 38,
   "id": "89bbd0ab",
   "metadata": {},
   "outputs": [
    {
     "data": {
      "text/plain": [
       "array(['C класс', 'D класс', 'Спортивные автомобили', 'E класс',\n",
       "       'F класс', 'Среднеразмерные SUV', 'Стандартные SUV', 'B класс',\n",
       "       'Компактные SUV', 'Субкомпактные SUV', 'Большие автобусы',\n",
       "       'Микроавтобусы', 'Малотоннажные грузовики',\n",
       "       'Крупнотоннажные грузовики', 'Развозные автомобили',\n",
       "       'Среднетоннажные грузовики', 'Полноразмерный Минивэн',\n",
       "       'Средние автобусы', 'Полноразмерные SUV', 'Pick-ups', 'A класс',\n",
       "       'Компактвэн'], dtype=object)"
      ]
     },
     "metadata": {},
     "output_type": "display_data"
    },
    {
     "data": {
      "text/plain": [
       "Спортивные автомобили           5\n",
       "Компактвэн                      8\n",
       "Средние автобусы                9\n",
       "Полноразмерный Минивэн         53\n",
       "Среднетоннажные грузовики      71\n",
       "F класс                        76\n",
       "Большие автобусы               97\n",
       "D класс                       109\n",
       "A класс                       159\n",
       "Микроавтобусы                 246\n",
       "Развозные автомобили          775\n",
       "Pick-ups                      877\n",
       "Крупнотоннажные грузовики    1054\n",
       "Полноразмерные SUV           1808\n",
       "Малотоннажные грузовики      1986\n",
       "Стандартные SUV              2243\n",
       "Субкомпактные SUV            2407\n",
       "Среднеразмерные SUV          2963\n",
       "C класс                      3139\n",
       "E класс                      3713\n",
       "Компактные SUV               4800\n",
       "B класс                      6102\n",
       "Name: класс_2013, dtype: int64"
      ]
     },
     "execution_count": 38,
     "metadata": {},
     "output_type": "execute_result"
    }
   ],
   "source": [
    "df['класс_2013'] = df['класс_2013'].str.rstrip() # убрали пробелы в конце\n",
    "display(df.класс_2013.unique())\n",
    "df['класс_2013'].value_counts().sort_values()"
   ]
  },
  {
   "cell_type": "markdown",
   "id": "b9c960b7",
   "metadata": {},
   "source": [
    "### Посмотрим на столбец \"количество\""
   ]
  },
  {
   "cell_type": "code",
   "execution_count": 39,
   "id": "12d7191a",
   "metadata": {},
   "outputs": [
    {
     "data": {
      "text/plain": [
       "array([ 1.,  3.,  2.,  4.,  5.,  6.,  7.,  8., 11.,  9., 10., 20., 12.,\n",
       "       37., 40., 17., 15., 24., 26., 13., nan, 19., 14., 25., 16., 22.,\n",
       "       18., 30., 21., 31., 46., 23., 29., 41., 33., 56., 28., 35., 36.,\n",
       "       39., 34., 27., 38., 32., 91.])"
      ]
     },
     "metadata": {},
     "output_type": "display_data"
    },
    {
     "data": {
      "text/plain": [
       "91        1\n",
       "41        1\n",
       "36        1\n",
       "32        1\n",
       "38        1\n",
       "27        1\n",
       "34        2\n",
       "46        2\n",
       "56        2\n",
       "24        2\n",
       "31        2\n",
       "37        2\n",
       "33        2\n",
       "35        2\n",
       "28        3\n",
       "40        3\n",
       "39        3\n",
       "26        5\n",
       "0         5\n",
       "22        7\n",
       "23        7\n",
       "30        8\n",
       "19        8\n",
       "29        8\n",
       "25        9\n",
       "17       12\n",
       "20       13\n",
       "21       13\n",
       "18       20\n",
       "14       23\n",
       "16       24\n",
       "13       25\n",
       "15       26\n",
       "12       38\n",
       "11       39\n",
       "10       40\n",
       "9        41\n",
       "8        59\n",
       "7        97\n",
       "6       111\n",
       "5       163\n",
       "4       229\n",
       "3       415\n",
       "2       936\n",
       "1     30288\n",
       "Name: количество, dtype: int64"
      ]
     },
     "execution_count": 39,
     "metadata": {},
     "output_type": "execute_result"
    }
   ],
   "source": [
    "display(df.количество.unique())\n",
    "df['количество'] = df['количество'].fillna(0) # заменяем пропуски на 0\n",
    "df[['количество']] = df[['количество']].astype(int) # количество проданных машин может быть только целым)))\n",
    "df['количество'].value_counts().sort_values()"
   ]
  },
  {
   "cell_type": "markdown",
   "id": "931e2e31",
   "metadata": {},
   "source": [
    "Пропущенных значений всего 5. Удаляем."
   ]
  },
  {
   "cell_type": "code",
   "execution_count": 40,
   "id": "81bfd852",
   "metadata": {},
   "outputs": [
    {
     "data": {
      "text/plain": [
       "count    32695.000000\n",
       "mean         1.333445\n",
       "std          2.079319\n",
       "min          1.000000\n",
       "25%          1.000000\n",
       "50%          1.000000\n",
       "75%          1.000000\n",
       "max         91.000000\n",
       "Name: количество, dtype: float64"
      ]
     },
     "metadata": {},
     "output_type": "display_data"
    }
   ],
   "source": [
    "df = df[df.количество > 0] \n",
    "display(df.количество.describe())"
   ]
  },
  {
   "cell_type": "code",
   "execution_count": 41,
   "id": "748d40e4",
   "metadata": {},
   "outputs": [
    {
     "data": {
      "text/plain": [
       "array(['Легковые автомобили', 'Внедорожники', 'Коммерческие автомобили'],\n",
       "      dtype=object)"
      ]
     },
     "metadata": {},
     "output_type": "display_data"
    },
    {
     "data": {
      "text/html": [
       "<div>\n",
       "<style scoped>\n",
       "    .dataframe tbody tr th:only-of-type {\n",
       "        vertical-align: middle;\n",
       "    }\n",
       "\n",
       "    .dataframe tbody tr th {\n",
       "        vertical-align: top;\n",
       "    }\n",
       "\n",
       "    .dataframe thead th {\n",
       "        text-align: right;\n",
       "    }\n",
       "</style>\n",
       "<table border=\"1\" class=\"dataframe\">\n",
       "  <thead>\n",
       "    <tr style=\"text-align: right;\">\n",
       "      <th></th>\n",
       "      <th>год</th>\n",
       "      <th>месяц</th>\n",
       "      <th>компания</th>\n",
       "      <th>бренд</th>\n",
       "      <th>модель</th>\n",
       "      <th>год_выпуска</th>\n",
       "      <th>страна_производитель</th>\n",
       "      <th>вид_топлива</th>\n",
       "      <th>объём_двиг_л</th>\n",
       "      <th>коробка_передач</th>\n",
       "      <th>тип_привода</th>\n",
       "      <th>регион</th>\n",
       "      <th>количество</th>\n",
       "      <th>цена_usd</th>\n",
       "      <th>продажа_usd</th>\n",
       "      <th>сегментация_2013</th>\n",
       "      <th>класс_2013</th>\n",
       "    </tr>\n",
       "  </thead>\n",
       "  <tbody>\n",
       "    <tr>\n",
       "      <th>13358</th>\n",
       "      <td>2019</td>\n",
       "      <td>Июнь</td>\n",
       "      <td>БИПЭК АВТО</td>\n",
       "      <td>Lada</td>\n",
       "      <td>Vesta</td>\n",
       "      <td>2018</td>\n",
       "      <td>Республика Казахстан</td>\n",
       "      <td>бензин</td>\n",
       "      <td>1.6</td>\n",
       "      <td>MT</td>\n",
       "      <td>FWD</td>\n",
       "      <td>Караганда</td>\n",
       "      <td>91</td>\n",
       "      <td>11600.0</td>\n",
       "      <td>1055600.0</td>\n",
       "      <td>Легковые автомобили</td>\n",
       "      <td>B класс</td>\n",
       "    </tr>\n",
       "  </tbody>\n",
       "</table>\n",
       "</div>"
      ],
      "text/plain": [
       "        год месяц    компания бренд модель  год_выпуска  страна_производитель  \\\n",
       "13358  2019  Июнь  БИПЭК АВТО  Lada  Vesta         2018  Республика Казахстан   \n",
       "\n",
       "      вид_топлива  объём_двиг_л коробка_передач тип_привода     регион  \\\n",
       "13358      бензин           1.6              MT         FWD  Караганда   \n",
       "\n",
       "       количество  цена_usd  продажа_usd     сегментация_2013 класс_2013  \n",
       "13358          91   11600.0    1055600.0  Легковые автомобили    B класс  "
      ]
     },
     "execution_count": 41,
     "metadata": {},
     "output_type": "execute_result"
    }
   ],
   "source": [
    "display(df[df['количество'] > 3].сегментация_2013.unique())\n",
    "\n",
    "df[df['количество']>90]"
   ]
  },
  {
   "cell_type": "code",
   "execution_count": 42,
   "id": "37005408",
   "metadata": {},
   "outputs": [
    {
     "data": {
      "text/plain": [
       "array([[<AxesSubplot:title={'center':'количество'}>]], dtype=object)"
      ]
     },
     "execution_count": 42,
     "metadata": {},
     "output_type": "execute_result"
    },
    {
     "data": {
      "image/png": "[encoded data removed]",
      "text/plain": [
       "<Figure size 432x288 with 1 Axes>"
      ]
     },
     "metadata": {
      "needs_background": "light"
     },
     "output_type": "display_data"
    }
   ],
   "source": [
    "df.hist(column='количество', bins=10)\n"
   ]
  },
  {
   "cell_type": "code",
   "execution_count": 43,
   "id": "5ece7c7b",
   "metadata": {},
   "outputs": [
    {
     "data": {
      "text/plain": [
       "<AxesSubplot:>"
      ]
     },
     "execution_count": 43,
     "metadata": {},
     "output_type": "execute_result"
    },
    {
     "data": {
      "image/png": "[encoded data removed]",
      "text/plain": [
       "<Figure size 432x288 with 1 Axes>"
      ]
     },
     "metadata": {
      "needs_background": "light"
     },
     "output_type": "display_data"
    }
   ],
   "source": [
    "df.boxplot(column=['количество'])"
   ]
  },
  {
   "cell_type": "markdown",
   "id": "133dc616",
   "metadata": {},
   "source": [
    "Больше всего продается машин по 1 штуке, но, видимо, для коммерческих целей, есть закупки сразу много машин. Самая большая закупка - 91 штуки Lada\tVesta компанией Бипэк Авто (на тот момент один из крупнейших автодилеров Казахстана). Возможно, для такси."
   ]
  },
  {
   "cell_type": "code",
   "execution_count": 44,
   "id": "3789c687",
   "metadata": {},
   "outputs": [
    {
     "name": "stdout",
     "output_type": "stream",
     "text": [
      "<class 'pandas.core.frame.DataFrame'>\n",
      "Int64Index: 32695 entries, 0 to 32699\n",
      "Data columns (total 17 columns):\n",
      " #   Column                Non-Null Count  Dtype  \n",
      "---  ------                --------------  -----  \n",
      " 0   год                   32695 non-null  int64  \n",
      " 1   месяц                 32695 non-null  object \n",
      " 2   компания              32695 non-null  object \n",
      " 3   бренд                 32695 non-null  object \n",
      " 4   модель                32695 non-null  object \n",
      " 5   год_выпуска           32695 non-null  int32  \n",
      " 6   страна_производитель  32695 non-null  object \n",
      " 7   вид_топлива           32695 non-null  object \n",
      " 8   объём_двиг_л          32695 non-null  float64\n",
      " 9   коробка_передач       32695 non-null  object \n",
      " 10  тип_привода           32695 non-null  object \n",
      " 11  регион                32695 non-null  object \n",
      " 12  количество            32695 non-null  int32  \n",
      " 13  цена_usd              32695 non-null  float64\n",
      " 14  продажа_usd           32695 non-null  float64\n",
      " 15  сегментация_2013      32695 non-null  object \n",
      " 16  класс_2013            32695 non-null  object \n",
      "dtypes: float64(3), int32(2), int64(1), object(11)\n",
      "memory usage: 4.2+ MB\n"
     ]
    }
   ],
   "source": [
    "df.info()"
   ]
  },
  {
   "cell_type": "markdown",
   "id": "c32cdcec",
   "metadata": {},
   "source": [
    "### Посмотрим на столбец \"цена_usd\""
   ]
  },
  {
   "cell_type": "code",
   "execution_count": 45,
   "id": "7170c3c1",
   "metadata": {},
   "outputs": [
    {
     "data": {
      "text/plain": [
       "array([31250.        , 30581.        , 35087.719     , ...,\n",
       "       63359.97644326, 66115.70247934, 75690.        ])"
      ]
     },
     "execution_count": 45,
     "metadata": {},
     "output_type": "execute_result"
    }
   ],
   "source": [
    "df.цена_usd.unique()"
   ]
  },
  {
   "cell_type": "markdown",
   "id": "bc89dda5",
   "metadata": {},
   "source": [
    "Окргулим до 2 х знаков после запятой."
   ]
  },
  {
   "cell_type": "code",
   "execution_count": 46,
   "id": "d62cac0e",
   "metadata": {},
   "outputs": [
    {
     "data": {
      "text/plain": [
       "array([31250.  , 30581.  , 35087.72, ..., 63359.98, 66115.7 , 75690.  ])"
      ]
     },
     "execution_count": 46,
     "metadata": {},
     "output_type": "execute_result"
    }
   ],
   "source": [
    "df['цена_usd'] = np.round(df['цена_usd'], decimals = 2)\n",
    "df.цена_usd.unique()"
   ]
  },
  {
   "cell_type": "code",
   "execution_count": 47,
   "id": "69865646",
   "metadata": {},
   "outputs": [
    {
     "data": {
      "text/plain": [
       "count     32695.000000\n",
       "mean      29740.935563\n",
       "std       22408.079341\n",
       "min        4571.360000\n",
       "25%       15096.910000\n",
       "50%       22716.160000\n",
       "75%       34690.900000\n",
       "max      498787.510000\n",
       "Name: цена_usd, dtype: float64"
      ]
     },
     "execution_count": 47,
     "metadata": {},
     "output_type": "execute_result"
    }
   ],
   "source": [
    "\n",
    "price=df['цена_usd']\n",
    "df['цена_usd'].describe()"
   ]
  },
  {
   "cell_type": "code",
   "execution_count": 48,
   "id": "678128ea",
   "metadata": {},
   "outputs": [
    {
     "data": {
      "text/plain": [
       "array([[<AxesSubplot:title={'center':'цена_usd'}>]], dtype=object)"
      ]
     },
     "execution_count": 48,
     "metadata": {},
     "output_type": "execute_result"
    },
    {
     "data": {
      "image/png": "[encoded data removed]",
      "text/plain": [
       "<Figure size 432x288 with 1 Axes>"
      ]
     },
     "metadata": {
      "needs_background": "light"
     },
     "output_type": "display_data"
    }
   ],
   "source": [
    "df.hist(column='цена_usd', bins=10)\n"
   ]
  },
  {
   "cell_type": "code",
   "execution_count": 49,
   "id": "7e083f86",
   "metadata": {},
   "outputs": [
    {
     "data": {
      "text/plain": [
       "<AxesSubplot:>"
      ]
     },
     "execution_count": 49,
     "metadata": {},
     "output_type": "execute_result"
    },
    {
     "data": {
      "image/png": "[encoded data removed]",
      "text/plain": [
       "<Figure size 432x288 with 1 Axes>"
      ]
     },
     "metadata": {
      "needs_background": "light"
     },
     "output_type": "display_data"
    }
   ],
   "source": [
    "df.boxplot(column=['цена_usd'])"
   ]
  },
  {
   "cell_type": "code",
   "execution_count": 50,
   "id": "cf11384e",
   "metadata": {},
   "outputs": [
    {
     "data": {
      "text/plain": [
       "array(['Спортивные автомобили', 'E класс', 'F класс',\n",
       "       'Среднеразмерные SUV', 'Стандартные SUV', 'D класс',\n",
       "       'Компактные SUV', 'Большие автобусы', 'Малотоннажные грузовики',\n",
       "       'Крупнотоннажные грузовики', 'Средние автобусы',\n",
       "       'Среднетоннажные грузовики', 'Полноразмерные SUV', 'Микроавтобусы',\n",
       "       'Pick-ups', 'Полноразмерный Минивэн'], dtype=object)"
      ]
     },
     "metadata": {},
     "output_type": "display_data"
    },
    {
     "data": {
      "text/html": [
       "<div>\n",
       "<style scoped>\n",
       "    .dataframe tbody tr th:only-of-type {\n",
       "        vertical-align: middle;\n",
       "    }\n",
       "\n",
       "    .dataframe tbody tr th {\n",
       "        vertical-align: top;\n",
       "    }\n",
       "\n",
       "    .dataframe thead th {\n",
       "        text-align: right;\n",
       "    }\n",
       "</style>\n",
       "<table border=\"1\" class=\"dataframe\">\n",
       "  <thead>\n",
       "    <tr style=\"text-align: right;\">\n",
       "      <th></th>\n",
       "      <th>год</th>\n",
       "      <th>месяц</th>\n",
       "      <th>компания</th>\n",
       "      <th>бренд</th>\n",
       "      <th>модель</th>\n",
       "      <th>год_выпуска</th>\n",
       "      <th>страна_производитель</th>\n",
       "      <th>вид_топлива</th>\n",
       "      <th>объём_двиг_л</th>\n",
       "      <th>коробка_передач</th>\n",
       "      <th>тип_привода</th>\n",
       "      <th>регион</th>\n",
       "      <th>количество</th>\n",
       "      <th>цена_usd</th>\n",
       "      <th>продажа_usd</th>\n",
       "      <th>сегментация_2013</th>\n",
       "      <th>класс_2013</th>\n",
       "    </tr>\n",
       "  </thead>\n",
       "  <tbody>\n",
       "    <tr>\n",
       "      <th>16978</th>\n",
       "      <td>2019</td>\n",
       "      <td>Май</td>\n",
       "      <td>Allur Auto</td>\n",
       "      <td>Peugeot</td>\n",
       "      <td>301</td>\n",
       "      <td>2016</td>\n",
       "      <td>Республика Казахстан</td>\n",
       "      <td>бензин</td>\n",
       "      <td>1.6</td>\n",
       "      <td>AT</td>\n",
       "      <td>2WD</td>\n",
       "      <td>Алматы</td>\n",
       "      <td>1</td>\n",
       "      <td>6095.15</td>\n",
       "      <td>6095.145217</td>\n",
       "      <td>Легковые автомобили</td>\n",
       "      <td>B класс</td>\n",
       "    </tr>\n",
       "    <tr>\n",
       "      <th>32179</th>\n",
       "      <td>2019</td>\n",
       "      <td>Май</td>\n",
       "      <td>Allur Auto</td>\n",
       "      <td>Jac</td>\n",
       "      <td>X200</td>\n",
       "      <td>2016</td>\n",
       "      <td>Республика Казахстан</td>\n",
       "      <td>дизель</td>\n",
       "      <td>2.8</td>\n",
       "      <td>MT</td>\n",
       "      <td>2WD</td>\n",
       "      <td>Алматы</td>\n",
       "      <td>1</td>\n",
       "      <td>4571.36</td>\n",
       "      <td>4571.358913</td>\n",
       "      <td>Коммерческие автомобили</td>\n",
       "      <td>Малотоннажные грузовики</td>\n",
       "    </tr>\n",
       "  </tbody>\n",
       "</table>\n",
       "</div>"
      ],
      "text/plain": [
       "        год месяц    компания    бренд модель  год_выпуска  \\\n",
       "16978  2019   Май  Allur Auto  Peugeot    301         2016   \n",
       "32179  2019   Май  Allur Auto      Jac   X200         2016   \n",
       "\n",
       "       страна_производитель вид_топлива  объём_двиг_л коробка_передач  \\\n",
       "16978  Республика Казахстан      бензин           1.6              AT   \n",
       "32179  Республика Казахстан      дизель           2.8              MT   \n",
       "\n",
       "      тип_привода  регион  количество  цена_usd  продажа_usd  \\\n",
       "16978         2WD  Алматы           1   6095.15  6095.145217   \n",
       "32179         2WD  Алматы           1   4571.36  4571.358913   \n",
       "\n",
       "              сегментация_2013               класс_2013  \n",
       "16978      Легковые автомобили                  B класс  \n",
       "32179  Коммерческие автомобили  Малотоннажные грузовики  "
      ]
     },
     "metadata": {},
     "output_type": "display_data"
    },
    {
     "data": {
      "text/html": [
       "<div>\n",
       "<style scoped>\n",
       "    .dataframe tbody tr th:only-of-type {\n",
       "        vertical-align: middle;\n",
       "    }\n",
       "\n",
       "    .dataframe tbody tr th {\n",
       "        vertical-align: top;\n",
       "    }\n",
       "\n",
       "    .dataframe thead th {\n",
       "        text-align: right;\n",
       "    }\n",
       "</style>\n",
       "<table border=\"1\" class=\"dataframe\">\n",
       "  <thead>\n",
       "    <tr style=\"text-align: right;\">\n",
       "      <th></th>\n",
       "      <th>год</th>\n",
       "      <th>месяц</th>\n",
       "      <th>компания</th>\n",
       "      <th>бренд</th>\n",
       "      <th>модель</th>\n",
       "      <th>год_выпуска</th>\n",
       "      <th>страна_производитель</th>\n",
       "      <th>вид_топлива</th>\n",
       "      <th>объём_двиг_л</th>\n",
       "      <th>коробка_передач</th>\n",
       "      <th>тип_привода</th>\n",
       "      <th>регион</th>\n",
       "      <th>количество</th>\n",
       "      <th>цена_usd</th>\n",
       "      <th>продажа_usd</th>\n",
       "      <th>сегментация_2013</th>\n",
       "      <th>класс_2013</th>\n",
       "    </tr>\n",
       "  </thead>\n",
       "  <tbody>\n",
       "    <tr>\n",
       "      <th>7143</th>\n",
       "      <td>2019</td>\n",
       "      <td>Февраль</td>\n",
       "      <td>Astana Motors</td>\n",
       "      <td>Hyundai Truck &amp; Bus</td>\n",
       "      <td>Universe</td>\n",
       "      <td>2017</td>\n",
       "      <td>Корея</td>\n",
       "      <td>дизель</td>\n",
       "      <td>12.3</td>\n",
       "      <td>MT</td>\n",
       "      <td>2WD</td>\n",
       "      <td>Атырау</td>\n",
       "      <td>1</td>\n",
       "      <td>243827.22</td>\n",
       "      <td>243827.222122</td>\n",
       "      <td>Коммерческие автомобили</td>\n",
       "      <td>Большие автобусы</td>\n",
       "    </tr>\n",
       "    <tr>\n",
       "      <th>7144</th>\n",
       "      <td>2019</td>\n",
       "      <td>Март</td>\n",
       "      <td>Astana Motors</td>\n",
       "      <td>Hyundai Truck &amp; Bus</td>\n",
       "      <td>Universe</td>\n",
       "      <td>2017</td>\n",
       "      <td>Республика Казахстан</td>\n",
       "      <td>дизель</td>\n",
       "      <td>12.3</td>\n",
       "      <td>MT</td>\n",
       "      <td>2WD</td>\n",
       "      <td>Атырау</td>\n",
       "      <td>1</td>\n",
       "      <td>222639.77</td>\n",
       "      <td>222639.770983</td>\n",
       "      <td>Коммерческие автомобили</td>\n",
       "      <td>Большие автобусы</td>\n",
       "    </tr>\n",
       "    <tr>\n",
       "      <th>7145</th>\n",
       "      <td>2019</td>\n",
       "      <td>Март</td>\n",
       "      <td>Astana Motors</td>\n",
       "      <td>Hyundai Truck &amp; Bus</td>\n",
       "      <td>Universe</td>\n",
       "      <td>2017</td>\n",
       "      <td>Республика Казахстан</td>\n",
       "      <td>дизель</td>\n",
       "      <td>12.3</td>\n",
       "      <td>MT</td>\n",
       "      <td>2WD</td>\n",
       "      <td>Атырау</td>\n",
       "      <td>1</td>\n",
       "      <td>222639.77</td>\n",
       "      <td>222639.770983</td>\n",
       "      <td>Коммерческие автомобили</td>\n",
       "      <td>Большие автобусы</td>\n",
       "    </tr>\n",
       "    <tr>\n",
       "      <th>7146</th>\n",
       "      <td>2019</td>\n",
       "      <td>Май</td>\n",
       "      <td>Hyundai Com Trans Kazakhstan</td>\n",
       "      <td>Hyundai Truck &amp; Bus</td>\n",
       "      <td>Universe</td>\n",
       "      <td>2017</td>\n",
       "      <td>Республика Казахстан</td>\n",
       "      <td>дизель</td>\n",
       "      <td>12.3</td>\n",
       "      <td>MT</td>\n",
       "      <td>2WD</td>\n",
       "      <td>Алматы</td>\n",
       "      <td>1</td>\n",
       "      <td>239203.97</td>\n",
       "      <td>239203.974035</td>\n",
       "      <td>Коммерческие автомобили</td>\n",
       "      <td>Большие автобусы</td>\n",
       "    </tr>\n",
       "    <tr>\n",
       "      <th>7147</th>\n",
       "      <td>2019</td>\n",
       "      <td>Июль</td>\n",
       "      <td>Hyundai Com Trans Kazakhstan</td>\n",
       "      <td>Hyundai Truck &amp; Bus</td>\n",
       "      <td>Universe</td>\n",
       "      <td>2017</td>\n",
       "      <td>Корея</td>\n",
       "      <td>дизель</td>\n",
       "      <td>12.3</td>\n",
       "      <td>MT</td>\n",
       "      <td>2WD</td>\n",
       "      <td>Алматы</td>\n",
       "      <td>4</td>\n",
       "      <td>228003.97</td>\n",
       "      <td>912015.892501</td>\n",
       "      <td>Коммерческие автомобили</td>\n",
       "      <td>Большие автобусы</td>\n",
       "    </tr>\n",
       "    <tr>\n",
       "      <th>7148</th>\n",
       "      <td>2019</td>\n",
       "      <td>Август</td>\n",
       "      <td>Hyundai Com Trans Kazakhstan</td>\n",
       "      <td>Hyundai Truck &amp; Bus</td>\n",
       "      <td>Universe</td>\n",
       "      <td>2017</td>\n",
       "      <td>Республика Казахстан</td>\n",
       "      <td>0</td>\n",
       "      <td>0.0</td>\n",
       "      <td>0</td>\n",
       "      <td>0</td>\n",
       "      <td>Алматы</td>\n",
       "      <td>2</td>\n",
       "      <td>219843.46</td>\n",
       "      <td>439686.912430</td>\n",
       "      <td>Коммерческие автомобили</td>\n",
       "      <td>Большие автобусы</td>\n",
       "    </tr>\n",
       "    <tr>\n",
       "      <th>15652</th>\n",
       "      <td>2019</td>\n",
       "      <td>Июль</td>\n",
       "      <td>Autokapital</td>\n",
       "      <td>Mercedes-Benz Trucks</td>\n",
       "      <td>Tourismo</td>\n",
       "      <td>2018</td>\n",
       "      <td>Турция</td>\n",
       "      <td>дизель</td>\n",
       "      <td>12.0</td>\n",
       "      <td>AT</td>\n",
       "      <td>2WD</td>\n",
       "      <td>Атырау</td>\n",
       "      <td>1</td>\n",
       "      <td>254958.00</td>\n",
       "      <td>254958.000000</td>\n",
       "      <td>Коммерческие автомобили</td>\n",
       "      <td>Крупнотоннажные грузовики</td>\n",
       "    </tr>\n",
       "    <tr>\n",
       "      <th>17022</th>\n",
       "      <td>2019</td>\n",
       "      <td>Апрель</td>\n",
       "      <td>Mercur Auto</td>\n",
       "      <td>Porsche</td>\n",
       "      <td>911 Carrera S</td>\n",
       "      <td>2018</td>\n",
       "      <td>Германия</td>\n",
       "      <td>бензин</td>\n",
       "      <td>4.0</td>\n",
       "      <td>AT</td>\n",
       "      <td>4WD</td>\n",
       "      <td>Алматы</td>\n",
       "      <td>1</td>\n",
       "      <td>205962.37</td>\n",
       "      <td>205962.374664</td>\n",
       "      <td>Легковые автомобили</td>\n",
       "      <td>Спортивные автомобили</td>\n",
       "    </tr>\n",
       "    <tr>\n",
       "      <th>17068</th>\n",
       "      <td>2019</td>\n",
       "      <td>Январь</td>\n",
       "      <td>Mercur Auto</td>\n",
       "      <td>Porsche</td>\n",
       "      <td>Panamera</td>\n",
       "      <td>2017</td>\n",
       "      <td>Германия</td>\n",
       "      <td>бензин</td>\n",
       "      <td>4.0</td>\n",
       "      <td>AT</td>\n",
       "      <td>4WD</td>\n",
       "      <td>Алматы</td>\n",
       "      <td>1</td>\n",
       "      <td>206882.07</td>\n",
       "      <td>206882.074184</td>\n",
       "      <td>Легковые автомобили</td>\n",
       "      <td>F класс</td>\n",
       "    </tr>\n",
       "    <tr>\n",
       "      <th>17070</th>\n",
       "      <td>2019</td>\n",
       "      <td>Февраль</td>\n",
       "      <td>Mercur Auto</td>\n",
       "      <td>Porsche</td>\n",
       "      <td>Panamera</td>\n",
       "      <td>2017</td>\n",
       "      <td>Германия</td>\n",
       "      <td>бензин</td>\n",
       "      <td>4.0</td>\n",
       "      <td>AT</td>\n",
       "      <td>4WD</td>\n",
       "      <td>Алматы</td>\n",
       "      <td>1</td>\n",
       "      <td>235378.95</td>\n",
       "      <td>235378.952664</td>\n",
       "      <td>Легковые автомобили</td>\n",
       "      <td>F класс</td>\n",
       "    </tr>\n",
       "    <tr>\n",
       "      <th>17078</th>\n",
       "      <td>2019</td>\n",
       "      <td>Июль</td>\n",
       "      <td>Mercur Auto</td>\n",
       "      <td>Porsche</td>\n",
       "      <td>Panamera</td>\n",
       "      <td>2017</td>\n",
       "      <td>Германия</td>\n",
       "      <td>бензин</td>\n",
       "      <td>4.0</td>\n",
       "      <td>AT</td>\n",
       "      <td>4WD</td>\n",
       "      <td>Алматы</td>\n",
       "      <td>1</td>\n",
       "      <td>217042.36</td>\n",
       "      <td>217042.363101</td>\n",
       "      <td>Легковые автомобили</td>\n",
       "      <td>F класс</td>\n",
       "    </tr>\n",
       "    <tr>\n",
       "      <th>31893</th>\n",
       "      <td>2019</td>\n",
       "      <td>Июнь</td>\n",
       "      <td>СемАЗ</td>\n",
       "      <td>Урал</td>\n",
       "      <td>4320</td>\n",
       "      <td>2018</td>\n",
       "      <td>Республика Казахстан</td>\n",
       "      <td>0</td>\n",
       "      <td>0.0</td>\n",
       "      <td>0</td>\n",
       "      <td>0</td>\n",
       "      <td>Алматы</td>\n",
       "      <td>1</td>\n",
       "      <td>298875.27</td>\n",
       "      <td>298875.267793</td>\n",
       "      <td>Коммерческие автомобили</td>\n",
       "      <td>Малотоннажные грузовики</td>\n",
       "    </tr>\n",
       "    <tr>\n",
       "      <th>32381</th>\n",
       "      <td>2019</td>\n",
       "      <td>Апрель</td>\n",
       "      <td>MAN Truck &amp; Bus Kazakhstan</td>\n",
       "      <td>MAN</td>\n",
       "      <td>R 61</td>\n",
       "      <td>2018</td>\n",
       "      <td>Республика Казахстан</td>\n",
       "      <td>дизель</td>\n",
       "      <td>0.0</td>\n",
       "      <td>MT</td>\n",
       "      <td>0</td>\n",
       "      <td>Алматы</td>\n",
       "      <td>4</td>\n",
       "      <td>231401.86</td>\n",
       "      <td>925607.425291</td>\n",
       "      <td>Коммерческие автомобили</td>\n",
       "      <td>Большие автобусы</td>\n",
       "    </tr>\n",
       "    <tr>\n",
       "      <th>32678</th>\n",
       "      <td>2019</td>\n",
       "      <td>Август</td>\n",
       "      <td>Автоцентр-Бавария</td>\n",
       "      <td>Rolls Royce</td>\n",
       "      <td>Ghost</td>\n",
       "      <td>2017</td>\n",
       "      <td>UK</td>\n",
       "      <td>бензин</td>\n",
       "      <td>0.0</td>\n",
       "      <td>AT</td>\n",
       "      <td>4WD</td>\n",
       "      <td>Алматы</td>\n",
       "      <td>1</td>\n",
       "      <td>498787.51</td>\n",
       "      <td>498787.514716</td>\n",
       "      <td>Легковые автомобили</td>\n",
       "      <td>F класс</td>\n",
       "    </tr>\n",
       "  </tbody>\n",
       "</table>\n",
       "</div>"
      ],
      "text/plain": [
       "        год    месяц                       компания                 бренд  \\\n",
       "7143   2019  Февраль                  Astana Motors   Hyundai Truck & Bus   \n",
       "7144   2019     Март                  Astana Motors   Hyundai Truck & Bus   \n",
       "7145   2019     Март                  Astana Motors   Hyundai Truck & Bus   \n",
       "7146   2019      Май  Hyundai Com Trans Kazakhstan    Hyundai Truck & Bus   \n",
       "7147   2019     Июль  Hyundai Com Trans Kazakhstan    Hyundai Truck & Bus   \n",
       "7148   2019   Август  Hyundai Com Trans Kazakhstan    Hyundai Truck & Bus   \n",
       "15652  2019     Июль                    Autokapital  Mercedes-Benz Trucks   \n",
       "17022  2019   Апрель                    Mercur Auto               Porsche   \n",
       "17068  2019   Январь                    Mercur Auto               Porsche   \n",
       "17070  2019  Февраль                    Mercur Auto               Porsche   \n",
       "17078  2019     Июль                    Mercur Auto               Porsche   \n",
       "31893  2019     Июнь                          СемАЗ                  Урал   \n",
       "32381  2019   Апрель     MAN Truck & Bus Kazakhstan                   MAN   \n",
       "32678  2019   Август              Автоцентр-Бавария           Rolls Royce   \n",
       "\n",
       "              модель  год_выпуска  страна_производитель вид_топлива  \\\n",
       "7143        Universe         2017                 Корея      дизель   \n",
       "7144        Universe         2017  Республика Казахстан      дизель   \n",
       "7145        Universe         2017  Республика Казахстан      дизель   \n",
       "7146        Universe         2017  Республика Казахстан      дизель   \n",
       "7147        Universe         2017                 Корея      дизель   \n",
       "7148        Universe         2017  Республика Казахстан           0   \n",
       "15652       Tourismo         2018                Турция      дизель   \n",
       "17022  911 Carrera S         2018              Германия      бензин   \n",
       "17068       Panamera         2017              Германия      бензин   \n",
       "17070       Panamera         2017              Германия      бензин   \n",
       "17078       Panamera         2017              Германия      бензин   \n",
       "31893           4320         2018  Республика Казахстан           0   \n",
       "32381           R 61         2018  Республика Казахстан      дизель   \n",
       "32678          Ghost         2017                    UK      бензин   \n",
       "\n",
       "       объём_двиг_л коробка_передач тип_привода  регион  количество  \\\n",
       "7143           12.3              MT         2WD  Атырау           1   \n",
       "7144           12.3              MT         2WD  Атырау           1   \n",
       "7145           12.3              MT         2WD  Атырау           1   \n",
       "7146           12.3              MT         2WD  Алматы           1   \n",
       "7147           12.3              MT         2WD  Алматы           4   \n",
       "7148            0.0               0           0  Алматы           2   \n",
       "15652          12.0              AT         2WD  Атырау           1   \n",
       "17022           4.0              AT         4WD  Алматы           1   \n",
       "17068           4.0              AT         4WD  Алматы           1   \n",
       "17070           4.0              AT         4WD  Алматы           1   \n",
       "17078           4.0              AT         4WD  Алматы           1   \n",
       "31893           0.0               0           0  Алматы           1   \n",
       "32381           0.0              MT           0  Алматы           4   \n",
       "32678           0.0              AT         4WD  Алматы           1   \n",
       "\n",
       "        цена_usd    продажа_usd         сегментация_2013  \\\n",
       "7143   243827.22  243827.222122  Коммерческие автомобили   \n",
       "7144   222639.77  222639.770983  Коммерческие автомобили   \n",
       "7145   222639.77  222639.770983  Коммерческие автомобили   \n",
       "7146   239203.97  239203.974035  Коммерческие автомобили   \n",
       "7147   228003.97  912015.892501  Коммерческие автомобили   \n",
       "7148   219843.46  439686.912430  Коммерческие автомобили   \n",
       "15652  254958.00  254958.000000  Коммерческие автомобили   \n",
       "17022  205962.37  205962.374664      Легковые автомобили   \n",
       "17068  206882.07  206882.074184      Легковые автомобили   \n",
       "17070  235378.95  235378.952664      Легковые автомобили   \n",
       "17078  217042.36  217042.363101      Легковые автомобили   \n",
       "31893  298875.27  298875.267793  Коммерческие автомобили   \n",
       "32381  231401.86  925607.425291  Коммерческие автомобили   \n",
       "32678  498787.51  498787.514716      Легковые автомобили   \n",
       "\n",
       "                      класс_2013  \n",
       "7143            Большие автобусы  \n",
       "7144            Большие автобусы  \n",
       "7145            Большие автобусы  \n",
       "7146            Большие автобусы  \n",
       "7147            Большие автобусы  \n",
       "7148            Большие автобусы  \n",
       "15652  Крупнотоннажные грузовики  \n",
       "17022      Спортивные автомобили  \n",
       "17068                    F класс  \n",
       "17070                    F класс  \n",
       "17078                    F класс  \n",
       "31893    Малотоннажные грузовики  \n",
       "32381           Большие автобусы  \n",
       "32678                    F класс  "
      ]
     },
     "execution_count": 50,
     "metadata": {},
     "output_type": "execute_result"
    }
   ],
   "source": [
    "display(df[df['цена_usd'] > 50000].класс_2013.unique())\n",
    "display(df[df['цена_usd'] < 7000])\n",
    "df[df['цена_usd'] > 200000]"
   ]
  },
  {
   "cell_type": "markdown",
   "id": "ecfb14ae",
   "metadata": {},
   "source": [
    "Основная масса, проданных автомобилей, имеет цену от 15 000 до 35 000. Высокий ценник имеют грузовики, автобусы и люксовые автомобили.\n",
    "А самый дорогой проданный автомобиль - это Ролс Роллс Фантом - почти полмиллиона долларов США.\n",
    "Самая дешевая машинка - Jac\tX200 за 4571.36."
   ]
  },
  {
   "cell_type": "markdown",
   "id": "9fc49b68",
   "metadata": {},
   "source": [
    "### Посмотрим на столбец \"продажа_usd\""
   ]
  },
  {
   "cell_type": "code",
   "execution_count": 51,
   "id": "b09ff514",
   "metadata": {},
   "outputs": [
    {
     "data": {
      "text/plain": [
       "count    3.269500e+04\n",
       "mean     3.514219e+04\n",
       "std      4.553727e+04\n",
       "min      4.571360e+03\n",
       "25%      1.633158e+04\n",
       "50%      2.538348e+04\n",
       "75%      3.741071e+04\n",
       "max      1.980922e+06\n",
       "Name: продажа_usd, dtype: float64"
      ]
     },
     "execution_count": 51,
     "metadata": {},
     "output_type": "execute_result"
    }
   ],
   "source": [
    "df['продажа_usd'] = np.round(df['продажа_usd'], decimals = 2)\n",
    "df['продажа_usd'].describe()"
   ]
  },
  {
   "cell_type": "code",
   "execution_count": 52,
   "id": "37bc8602",
   "metadata": {},
   "outputs": [],
   "source": [
    "df['sales']=df['количество']*df['цена_usd']"
   ]
  },
  {
   "cell_type": "code",
   "execution_count": 53,
   "id": "15b139a0",
   "metadata": {},
   "outputs": [
    {
     "data": {
      "text/html": [
       "<div>\n",
       "<style scoped>\n",
       "    .dataframe tbody tr th:only-of-type {\n",
       "        vertical-align: middle;\n",
       "    }\n",
       "\n",
       "    .dataframe tbody tr th {\n",
       "        vertical-align: top;\n",
       "    }\n",
       "\n",
       "    .dataframe thead th {\n",
       "        text-align: right;\n",
       "    }\n",
       "</style>\n",
       "<table border=\"1\" class=\"dataframe\">\n",
       "  <thead>\n",
       "    <tr style=\"text-align: right;\">\n",
       "      <th></th>\n",
       "      <th>год</th>\n",
       "      <th>месяц</th>\n",
       "      <th>компания</th>\n",
       "      <th>бренд</th>\n",
       "      <th>модель</th>\n",
       "      <th>год_выпуска</th>\n",
       "      <th>страна_производитель</th>\n",
       "      <th>вид_топлива</th>\n",
       "      <th>объём_двиг_л</th>\n",
       "      <th>коробка_передач</th>\n",
       "      <th>тип_привода</th>\n",
       "      <th>регион</th>\n",
       "      <th>количество</th>\n",
       "      <th>цена_usd</th>\n",
       "      <th>продажа_usd</th>\n",
       "      <th>сегментация_2013</th>\n",
       "      <th>класс_2013</th>\n",
       "      <th>sales</th>\n",
       "      <th>compare</th>\n",
       "    </tr>\n",
       "  </thead>\n",
       "  <tbody>\n",
       "  </tbody>\n",
       "</table>\n",
       "</div>"
      ],
      "text/plain": [
       "Empty DataFrame\n",
       "Columns: [год, месяц, компания, бренд, модель, год_выпуска, страна_производитель, вид_топлива, объём_двиг_л, коробка_передач, тип_привода, регион, количество, цена_usd, продажа_usd, сегментация_2013, класс_2013, sales, compare]\n",
       "Index: []"
      ]
     },
     "execution_count": 53,
     "metadata": {},
     "output_type": "execute_result"
    }
   ],
   "source": [
    "df['compare'] = (df['sales'] - df['продажа_usd']) < 0.1\n",
    "df[df['compare']==False]"
   ]
  },
  {
   "cell_type": "markdown",
   "id": "32da96e3",
   "metadata": {},
   "source": [
    "Проверили, правильно ли подсчитаны продажи, т.е совпадает ли цена* количество с суммой продаж. Приняли ошибку округления. Так что все верно."
   ]
  },
  {
   "cell_type": "code",
   "execution_count": 54,
   "id": "8fa8b1c2",
   "metadata": {},
   "outputs": [],
   "source": [
    "df=df.drop(['sales', 'compare'], axis=1) # удалим служебные столбцы"
   ]
  },
  {
   "cell_type": "code",
   "execution_count": 55,
   "id": "f9b33f03",
   "metadata": {},
   "outputs": [
    {
     "data": {
      "text/html": [
       "<div>\n",
       "<style scoped>\n",
       "    .dataframe tbody tr th:only-of-type {\n",
       "        vertical-align: middle;\n",
       "    }\n",
       "\n",
       "    .dataframe tbody tr th {\n",
       "        vertical-align: top;\n",
       "    }\n",
       "\n",
       "    .dataframe thead th {\n",
       "        text-align: right;\n",
       "    }\n",
       "</style>\n",
       "<table border=\"1\" class=\"dataframe\">\n",
       "  <thead>\n",
       "    <tr style=\"text-align: right;\">\n",
       "      <th></th>\n",
       "      <th>год</th>\n",
       "      <th>месяц</th>\n",
       "      <th>компания</th>\n",
       "      <th>бренд</th>\n",
       "      <th>модель</th>\n",
       "      <th>год_выпуска</th>\n",
       "      <th>страна_производитель</th>\n",
       "      <th>вид_топлива</th>\n",
       "      <th>объём_двиг_л</th>\n",
       "      <th>коробка_передач</th>\n",
       "      <th>тип_привода</th>\n",
       "      <th>регион</th>\n",
       "      <th>количество</th>\n",
       "      <th>цена_usd</th>\n",
       "      <th>продажа_usd</th>\n",
       "      <th>сегментация_2013</th>\n",
       "      <th>класс_2013</th>\n",
       "    </tr>\n",
       "  </thead>\n",
       "  <tbody>\n",
       "    <tr>\n",
       "      <th>0</th>\n",
       "      <td>2019</td>\n",
       "      <td>Март</td>\n",
       "      <td>Mercur Auto</td>\n",
       "      <td>Audi</td>\n",
       "      <td>A3</td>\n",
       "      <td>2017</td>\n",
       "      <td>Германия</td>\n",
       "      <td>бензин</td>\n",
       "      <td>1.4</td>\n",
       "      <td>0</td>\n",
       "      <td>0</td>\n",
       "      <td>Алматы</td>\n",
       "      <td>1</td>\n",
       "      <td>31250.00</td>\n",
       "      <td>31250.00</td>\n",
       "      <td>Легковые автомобили</td>\n",
       "      <td>C класс</td>\n",
       "    </tr>\n",
       "    <tr>\n",
       "      <th>1</th>\n",
       "      <td>2019</td>\n",
       "      <td>Май</td>\n",
       "      <td>Mercur Auto</td>\n",
       "      <td>Audi</td>\n",
       "      <td>A3</td>\n",
       "      <td>2018</td>\n",
       "      <td>Германия</td>\n",
       "      <td>бензин</td>\n",
       "      <td>1.4</td>\n",
       "      <td>0</td>\n",
       "      <td>FWD</td>\n",
       "      <td>Алматы</td>\n",
       "      <td>1</td>\n",
       "      <td>30581.00</td>\n",
       "      <td>30581.00</td>\n",
       "      <td>Легковые автомобили</td>\n",
       "      <td>C класс</td>\n",
       "    </tr>\n",
       "    <tr>\n",
       "      <th>2</th>\n",
       "      <td>2019</td>\n",
       "      <td>Июнь</td>\n",
       "      <td>Mercur Auto</td>\n",
       "      <td>Audi</td>\n",
       "      <td>A3</td>\n",
       "      <td>2018</td>\n",
       "      <td>Германия</td>\n",
       "      <td>бензин</td>\n",
       "      <td>1.4</td>\n",
       "      <td>0</td>\n",
       "      <td>FWD</td>\n",
       "      <td>Алматы</td>\n",
       "      <td>1</td>\n",
       "      <td>35087.72</td>\n",
       "      <td>35087.72</td>\n",
       "      <td>Легковые автомобили</td>\n",
       "      <td>C класс</td>\n",
       "    </tr>\n",
       "    <tr>\n",
       "      <th>3</th>\n",
       "      <td>2019</td>\n",
       "      <td>Июль</td>\n",
       "      <td>Mercur Auto</td>\n",
       "      <td>Audi</td>\n",
       "      <td>A3</td>\n",
       "      <td>2017</td>\n",
       "      <td>Германия</td>\n",
       "      <td>бензин</td>\n",
       "      <td>1.4</td>\n",
       "      <td>0</td>\n",
       "      <td>FWD</td>\n",
       "      <td>Алматы</td>\n",
       "      <td>1</td>\n",
       "      <td>26608.23</td>\n",
       "      <td>26608.23</td>\n",
       "      <td>Легковые автомобили</td>\n",
       "      <td>C класс</td>\n",
       "    </tr>\n",
       "    <tr>\n",
       "      <th>4</th>\n",
       "      <td>2019</td>\n",
       "      <td>Июль</td>\n",
       "      <td>Mercur Auto</td>\n",
       "      <td>Audi</td>\n",
       "      <td>A4</td>\n",
       "      <td>2017</td>\n",
       "      <td>Германия</td>\n",
       "      <td>бензин</td>\n",
       "      <td>2.0</td>\n",
       "      <td>0</td>\n",
       "      <td>4WD</td>\n",
       "      <td>Алматы</td>\n",
       "      <td>1</td>\n",
       "      <td>48343.98</td>\n",
       "      <td>48343.98</td>\n",
       "      <td>Легковые автомобили</td>\n",
       "      <td>D класс</td>\n",
       "    </tr>\n",
       "  </tbody>\n",
       "</table>\n",
       "</div>"
      ],
      "text/plain": [
       "    год месяц     компания бренд модель  год_выпуска страна_производитель  \\\n",
       "0  2019  Март  Mercur Auto  Audi     A3         2017             Германия   \n",
       "1  2019   Май  Mercur Auto  Audi     A3         2018             Германия   \n",
       "2  2019  Июнь  Mercur Auto  Audi     A3         2018             Германия   \n",
       "3  2019  Июль  Mercur Auto  Audi     A3         2017             Германия   \n",
       "4  2019  Июль  Mercur Auto  Audi     A4         2017             Германия   \n",
       "\n",
       "  вид_топлива  объём_двиг_л коробка_передач тип_привода  регион  количество  \\\n",
       "0      бензин           1.4               0           0  Алматы           1   \n",
       "1      бензин           1.4               0         FWD  Алматы           1   \n",
       "2      бензин           1.4               0         FWD  Алматы           1   \n",
       "3      бензин           1.4               0         FWD  Алматы           1   \n",
       "4      бензин           2.0               0         4WD  Алматы           1   \n",
       "\n",
       "   цена_usd  продажа_usd     сегментация_2013 класс_2013  \n",
       "0  31250.00     31250.00  Легковые автомобили    C класс  \n",
       "1  30581.00     30581.00  Легковые автомобили    C класс  \n",
       "2  35087.72     35087.72  Легковые автомобили    C класс  \n",
       "3  26608.23     26608.23  Легковые автомобили    C класс  \n",
       "4  48343.98     48343.98  Легковые автомобили    D класс  "
      ]
     },
     "execution_count": 55,
     "metadata": {},
     "output_type": "execute_result"
    }
   ],
   "source": [
    "df.head()"
   ]
  },
  {
   "cell_type": "markdown",
   "id": "9c161c0a",
   "metadata": {},
   "source": [
    "### Посмотрим на столбец \"страна_производитель\""
   ]
  },
  {
   "cell_type": "code",
   "execution_count": 56,
   "id": "dafe912c",
   "metadata": {},
   "outputs": [
    {
     "data": {
      "text/plain": [
       "array(['Германия', 'США', 'Республика Казахстан', 'Российская Федерация',\n",
       "       'Белоруссия', 'Турция', 'Япония', 'Корея', 'Вьетнам', 'UK',\n",
       "       'Таиланд', 'Узбекистан', 'Венгрия', 'Австрия', 'Нидерланды',\n",
       "       'Швеция'], dtype=object)"
      ]
     },
     "execution_count": 56,
     "metadata": {},
     "output_type": "execute_result"
    }
   ],
   "source": [
    "df.страна_производитель.unique()\n"
   ]
  },
  {
   "cell_type": "markdown",
   "id": "fab7cf26",
   "metadata": {},
   "source": [
    "Закодируем страны в соттветствии с кодировкой Alpha3."
   ]
  },
  {
   "cell_type": "code",
   "execution_count": 57,
   "id": "1dd4e5f0",
   "metadata": {},
   "outputs": [
    {
     "data": {
      "text/plain": [
       "pandas.core.frame.DataFrame"
      ]
     },
     "execution_count": 57,
     "metadata": {},
     "output_type": "execute_result"
    }
   ],
   "source": [
    "type(pd.read_html('https://www.artlebedev.ru/country-list/', \n",
    "encoding='utf8'))\n",
    "type(pd.read_html('https://www.artlebedev.ru/country-list/',\n",
    "encoding='utf8')[0])"
   ]
  },
  {
   "cell_type": "code",
   "execution_count": 58,
   "id": "855db46c",
   "metadata": {},
   "outputs": [
    {
     "data": {
      "text/html": [
       "<div>\n",
       "<style scoped>\n",
       "    .dataframe tbody tr th:only-of-type {\n",
       "        vertical-align: middle;\n",
       "    }\n",
       "\n",
       "    .dataframe tbody tr th {\n",
       "        vertical-align: top;\n",
       "    }\n",
       "\n",
       "    .dataframe thead th {\n",
       "        text-align: right;\n",
       "    }\n",
       "</style>\n",
       "<table border=\"1\" class=\"dataframe\">\n",
       "  <thead>\n",
       "    <tr style=\"text-align: right;\">\n",
       "      <th></th>\n",
       "      <th>name</th>\n",
       "      <th>full_name</th>\n",
       "      <th>На английском</th>\n",
       "      <th>Alpha2</th>\n",
       "      <th>Alpha3</th>\n",
       "      <th>ISO</th>\n",
       "      <th>Часть света</th>\n",
       "      <th>Расположение</th>\n",
       "    </tr>\n",
       "  </thead>\n",
       "  <tbody>\n",
       "    <tr>\n",
       "      <th>0</th>\n",
       "      <td>Абхазия</td>\n",
       "      <td>Республика Абхазия</td>\n",
       "      <td>Abkhazia</td>\n",
       "      <td>AB</td>\n",
       "      <td>ABH</td>\n",
       "      <td>895</td>\n",
       "      <td>Азия</td>\n",
       "      <td>Закавказье</td>\n",
       "    </tr>\n",
       "    <tr>\n",
       "      <th>1</th>\n",
       "      <td>Австралия</td>\n",
       "      <td>NaN</td>\n",
       "      <td>Australia</td>\n",
       "      <td>AU</td>\n",
       "      <td>AUS</td>\n",
       "      <td>36</td>\n",
       "      <td>Океания</td>\n",
       "      <td>Австралия и Новая Зеландия</td>\n",
       "    </tr>\n",
       "    <tr>\n",
       "      <th>2</th>\n",
       "      <td>Австрия</td>\n",
       "      <td>Австрийская Республика</td>\n",
       "      <td>Austria</td>\n",
       "      <td>AT</td>\n",
       "      <td>AUT</td>\n",
       "      <td>40</td>\n",
       "      <td>Европа</td>\n",
       "      <td>Западная Европа</td>\n",
       "    </tr>\n",
       "    <tr>\n",
       "      <th>3</th>\n",
       "      <td>Азербайджан</td>\n",
       "      <td>Республика Азербайджан</td>\n",
       "      <td>Azerbaijan</td>\n",
       "      <td>AZ</td>\n",
       "      <td>AZE</td>\n",
       "      <td>31</td>\n",
       "      <td>Азия</td>\n",
       "      <td>Западная Азия</td>\n",
       "    </tr>\n",
       "    <tr>\n",
       "      <th>4</th>\n",
       "      <td>Албания</td>\n",
       "      <td>Республика Албания</td>\n",
       "      <td>Albania</td>\n",
       "      <td>AL</td>\n",
       "      <td>ALB</td>\n",
       "      <td>8</td>\n",
       "      <td>Европа</td>\n",
       "      <td>Южная Европа</td>\n",
       "    </tr>\n",
       "    <tr>\n",
       "      <th>...</th>\n",
       "      <td>...</td>\n",
       "      <td>...</td>\n",
       "      <td>...</td>\n",
       "      <td>...</td>\n",
       "      <td>...</td>\n",
       "      <td>...</td>\n",
       "      <td>...</td>\n",
       "      <td>...</td>\n",
       "    </tr>\n",
       "    <tr>\n",
       "      <th>246</th>\n",
       "      <td>Южная Джорджия и Южные Сандвичевы острова</td>\n",
       "      <td>NaN</td>\n",
       "      <td>South Georgia and the South Sandwich Islands</td>\n",
       "      <td>GS</td>\n",
       "      <td>SGS</td>\n",
       "      <td>239</td>\n",
       "      <td>NaN</td>\n",
       "      <td>Южный океан</td>\n",
       "    </tr>\n",
       "    <tr>\n",
       "      <th>247</th>\n",
       "      <td>Южная Осетия</td>\n",
       "      <td>Республика Южная Осетия</td>\n",
       "      <td>South Ossetia</td>\n",
       "      <td>OS</td>\n",
       "      <td>OST</td>\n",
       "      <td>896</td>\n",
       "      <td>Азия</td>\n",
       "      <td>Закавказье</td>\n",
       "    </tr>\n",
       "    <tr>\n",
       "      <th>248</th>\n",
       "      <td>Южный Судан</td>\n",
       "      <td>NaN</td>\n",
       "      <td>South Sudan</td>\n",
       "      <td>SS</td>\n",
       "      <td>SSD</td>\n",
       "      <td>728</td>\n",
       "      <td>Африка</td>\n",
       "      <td>Северная Африка</td>\n",
       "    </tr>\n",
       "    <tr>\n",
       "      <th>249</th>\n",
       "      <td>Ямайка</td>\n",
       "      <td>NaN</td>\n",
       "      <td>Jamaica</td>\n",
       "      <td>JM</td>\n",
       "      <td>JAM</td>\n",
       "      <td>388</td>\n",
       "      <td>Америка</td>\n",
       "      <td>Карибский бассейн</td>\n",
       "    </tr>\n",
       "    <tr>\n",
       "      <th>250</th>\n",
       "      <td>Япония</td>\n",
       "      <td>NaN</td>\n",
       "      <td>Japan</td>\n",
       "      <td>JP</td>\n",
       "      <td>JPN</td>\n",
       "      <td>392</td>\n",
       "      <td>Азия</td>\n",
       "      <td>Восточная Азия</td>\n",
       "    </tr>\n",
       "  </tbody>\n",
       "</table>\n",
       "<p>251 rows × 8 columns</p>\n",
       "</div>"
      ],
      "text/plain": [
       "                                          name                full_name  \\\n",
       "0                                      Абхазия       Республика Абхазия   \n",
       "1                                    Австралия                      NaN   \n",
       "2                                      Австрия   Австрийская Республика   \n",
       "3                                  Азербайджан   Республика Азербайджан   \n",
       "4                                      Албания       Республика Албания   \n",
       "..                                         ...                      ...   \n",
       "246  Южная Джорджия и Южные Сандвичевы острова                      NaN   \n",
       "247                               Южная Осетия  Республика Южная Осетия   \n",
       "248                                Южный Судан                      NaN   \n",
       "249                                     Ямайка                      NaN   \n",
       "250                                     Япония                      NaN   \n",
       "\n",
       "                                    На английском Alpha2 Alpha3  ISO  \\\n",
       "0                                        Abkhazia     AB    ABH  895   \n",
       "1                                       Australia     AU    AUS   36   \n",
       "2                                         Austria     AT    AUT   40   \n",
       "3                                      Azerbaijan     AZ    AZE   31   \n",
       "4                                         Albania     AL    ALB    8   \n",
       "..                                            ...    ...    ...  ...   \n",
       "246  South Georgia and the South Sandwich Islands     GS    SGS  239   \n",
       "247                                 South Ossetia     OS    OST  896   \n",
       "248                                   South Sudan     SS    SSD  728   \n",
       "249                                       Jamaica     JM    JAM  388   \n",
       "250                                         Japan     JP    JPN  392   \n",
       "\n",
       "    Часть света                Расположение  \n",
       "0          Азия                  Закавказье  \n",
       "1       Океания  Австралия и Новая Зеландия  \n",
       "2        Европа             Западная Европа  \n",
       "3          Азия               Западная Азия  \n",
       "4        Европа                Южная Европа  \n",
       "..          ...                         ...  \n",
       "246         NaN                 Южный океан  \n",
       "247        Азия                  Закавказье  \n",
       "248      Африка             Северная Африка  \n",
       "249     Америка           Карибский бассейн  \n",
       "250        Азия              Восточная Азия  \n",
       "\n",
       "[251 rows x 8 columns]"
      ]
     },
     "execution_count": 58,
     "metadata": {},
     "output_type": "execute_result"
    }
   ],
   "source": [
    "countries_codes = (pd.read_html('https://www.artlebedev.ru/country-list/', encoding='utf8')[0])\n",
    "countries_codes = countries_codes.rename(columns={'Наименование':'name', 'Полное наименование':'full_name'})\n",
    "countries_codes"
   ]
  },
  {
   "cell_type": "code",
   "execution_count": 59,
   "id": "b07b0370",
   "metadata": {},
   "outputs": [
    {
     "data": {
      "text/plain": [
       "array(['DEU', 'США', 'KAZ', 'RUS', 'Белоруссия', 'TUR', 'JPN', 'Корея',\n",
       "       'VNM', 'UK', 'THA', 'UZB', 'HUN', 'AUT', 'NLD', 'SWE'],\n",
       "      dtype=object)"
      ]
     },
     "execution_count": 59,
     "metadata": {},
     "output_type": "execute_result"
    }
   ],
   "source": [
    "countries_codes_dict = {}\n",
    "for i in range(len(countries_codes)):\n",
    "    if countries_codes.loc[i]['name'] not in countries_codes_dict:\n",
    "        countries_codes_dict[countries_codes.loc[i]['name']] = countries_codes.loc[i]['Alpha3']\n",
    "    if countries_codes.loc[i]['full_name'] not in countries_codes_dict:\n",
    "        countries_codes_dict[countries_codes.loc[i]['full_name']] = countries_codes.loc[i]['Alpha3']\n",
    "df.страна_производитель = df.страна_производитель.apply(lambda cell: countries_codes_dict.get(cell, cell))\n",
    "df.страна_производитель.unique()"
   ]
  },
  {
   "cell_type": "markdown",
   "id": "a3342751",
   "metadata": {},
   "source": [
    "Добавим в наш словарь страны, которые не закодировались. "
   ]
  },
  {
   "cell_type": "code",
   "execution_count": 60,
   "id": "516eeb6a",
   "metadata": {},
   "outputs": [
    {
     "data": {
      "text/plain": [
       "array(['DEU', 'USA', 'KAZ', 'RUS', 'BLR', 'TUR', 'JPN', 'KOR', 'VNM',\n",
       "       'UK', 'THA', 'UZB', 'HUN', 'AUT', 'NLD', 'SWE'], dtype=object)"
      ]
     },
     "execution_count": 60,
     "metadata": {},
     "output_type": "execute_result"
    }
   ],
   "source": [
    "countries_codes_dict['США'] = 'USA'\n",
    "countries_codes_dict['Корея'] = 'KOR'\n",
    "countries_codes_dict['Белоруссия'] = 'BLR'\n",
    "\n",
    "df.страна_производитель = df.страна_производитель.apply(lambda cell: countries_codes_dict.get(cell, cell))\n",
    "df.страна_производитель.unique()\n"
   ]
  },
  {
   "cell_type": "code",
   "execution_count": 61,
   "id": "14a45816",
   "metadata": {},
   "outputs": [
    {
     "name": "stdout",
     "output_type": "stream",
     "text": [
      "<class 'pandas.core.frame.DataFrame'>\n",
      "Int64Index: 32695 entries, 0 to 32699\n",
      "Data columns (total 17 columns):\n",
      " #   Column                Non-Null Count  Dtype  \n",
      "---  ------                --------------  -----  \n",
      " 0   год                   32695 non-null  int64  \n",
      " 1   месяц                 32695 non-null  object \n",
      " 2   компания              32695 non-null  object \n",
      " 3   бренд                 32695 non-null  object \n",
      " 4   модель                32695 non-null  object \n",
      " 5   год_выпуска           32695 non-null  int32  \n",
      " 6   страна_производитель  32695 non-null  object \n",
      " 7   вид_топлива           32695 non-null  object \n",
      " 8   объём_двиг_л          32695 non-null  float64\n",
      " 9   коробка_передач       32695 non-null  object \n",
      " 10  тип_привода           32695 non-null  object \n",
      " 11  регион                32695 non-null  object \n",
      " 12  количество            32695 non-null  int32  \n",
      " 13  цена_usd              32695 non-null  float64\n",
      " 14  продажа_usd           32695 non-null  float64\n",
      " 15  сегментация_2013      32695 non-null  object \n",
      " 16  класс_2013            32695 non-null  object \n",
      "dtypes: float64(3), int32(2), int64(1), object(11)\n",
      "memory usage: 4.2+ MB\n"
     ]
    }
   ],
   "source": [
    "df.info()"
   ]
  },
  {
   "cell_type": "code",
   "execution_count": 62,
   "id": "86fd9f3a",
   "metadata": {},
   "outputs": [
    {
     "data": {
      "text/html": [
       "<div>\n",
       "<style scoped>\n",
       "    .dataframe tbody tr th:only-of-type {\n",
       "        vertical-align: middle;\n",
       "    }\n",
       "\n",
       "    .dataframe tbody tr th {\n",
       "        vertical-align: top;\n",
       "    }\n",
       "\n",
       "    .dataframe thead th {\n",
       "        text-align: right;\n",
       "    }\n",
       "</style>\n",
       "<table border=\"1\" class=\"dataframe\">\n",
       "  <thead>\n",
       "    <tr style=\"text-align: right;\">\n",
       "      <th></th>\n",
       "      <th>год</th>\n",
       "      <th>месяц</th>\n",
       "      <th>компания</th>\n",
       "      <th>бренд</th>\n",
       "      <th>модель</th>\n",
       "      <th>год_выпуска</th>\n",
       "      <th>страна_производитель</th>\n",
       "      <th>вид_топлива</th>\n",
       "      <th>объём_двиг_л</th>\n",
       "      <th>коробка_передач</th>\n",
       "      <th>тип_привода</th>\n",
       "      <th>регион</th>\n",
       "      <th>количество</th>\n",
       "      <th>цена_usd</th>\n",
       "      <th>продажа_usd</th>\n",
       "      <th>сегментация_2013</th>\n",
       "      <th>класс_2013</th>\n",
       "    </tr>\n",
       "  </thead>\n",
       "  <tbody>\n",
       "    <tr>\n",
       "      <th>27868</th>\n",
       "      <td>2019</td>\n",
       "      <td>Сентябрь</td>\n",
       "      <td>Toyota Motor Kazakhstan</td>\n",
       "      <td>Toyota</td>\n",
       "      <td>LC Prado</td>\n",
       "      <td>2018</td>\n",
       "      <td>JPN</td>\n",
       "      <td>бензин</td>\n",
       "      <td>4.0</td>\n",
       "      <td>AT</td>\n",
       "      <td>4WD</td>\n",
       "      <td>Уральск</td>\n",
       "      <td>1</td>\n",
       "      <td>70479.37</td>\n",
       "      <td>70479.37</td>\n",
       "      <td>Внедорожники</td>\n",
       "      <td>Стандартные SUV</td>\n",
       "    </tr>\n",
       "    <tr>\n",
       "      <th>1457</th>\n",
       "      <td>2019</td>\n",
       "      <td>Сентябрь</td>\n",
       "      <td>Вираж</td>\n",
       "      <td>GAZ</td>\n",
       "      <td>2752</td>\n",
       "      <td>2018</td>\n",
       "      <td>RUS</td>\n",
       "      <td>дизель</td>\n",
       "      <td>2.8</td>\n",
       "      <td>MT</td>\n",
       "      <td>4WD</td>\n",
       "      <td>Атырау</td>\n",
       "      <td>1</td>\n",
       "      <td>18848.12</td>\n",
       "      <td>18848.12</td>\n",
       "      <td>Коммерческие автомобили</td>\n",
       "      <td>Развозные автомобили</td>\n",
       "    </tr>\n",
       "    <tr>\n",
       "      <th>14128</th>\n",
       "      <td>2019</td>\n",
       "      <td>Февраль</td>\n",
       "      <td>Toyota Motor Kazakhstan</td>\n",
       "      <td>Lexus</td>\n",
       "      <td>ES</td>\n",
       "      <td>2017</td>\n",
       "      <td>JPN</td>\n",
       "      <td>бензин</td>\n",
       "      <td>2.5</td>\n",
       "      <td>AT</td>\n",
       "      <td>FWD</td>\n",
       "      <td>Астана</td>\n",
       "      <td>1</td>\n",
       "      <td>44758.60</td>\n",
       "      <td>44758.60</td>\n",
       "      <td>Легковые автомобили</td>\n",
       "      <td>E класс</td>\n",
       "    </tr>\n",
       "    <tr>\n",
       "      <th>1630</th>\n",
       "      <td>2019</td>\n",
       "      <td>Январь</td>\n",
       "      <td>Вираж</td>\n",
       "      <td>GAZ</td>\n",
       "      <td>3302</td>\n",
       "      <td>2017</td>\n",
       "      <td>KAZ</td>\n",
       "      <td>бензин</td>\n",
       "      <td>2.7</td>\n",
       "      <td>MT</td>\n",
       "      <td>RWD</td>\n",
       "      <td>Костанай</td>\n",
       "      <td>1</td>\n",
       "      <td>15067.54</td>\n",
       "      <td>15067.54</td>\n",
       "      <td>Коммерческие автомобили</td>\n",
       "      <td>Малотоннажные грузовики</td>\n",
       "    </tr>\n",
       "    <tr>\n",
       "      <th>30937</th>\n",
       "      <td>2019</td>\n",
       "      <td>Март</td>\n",
       "      <td>БИПЭК АВТО</td>\n",
       "      <td>UAZ</td>\n",
       "      <td>Patriot</td>\n",
       "      <td>2017</td>\n",
       "      <td>RUS</td>\n",
       "      <td>бензин</td>\n",
       "      <td>2.7</td>\n",
       "      <td>MT</td>\n",
       "      <td>4WD</td>\n",
       "      <td>Алматы</td>\n",
       "      <td>2</td>\n",
       "      <td>13800.00</td>\n",
       "      <td>27600.00</td>\n",
       "      <td>Внедорожники</td>\n",
       "      <td>Полноразмерные SUV</td>\n",
       "    </tr>\n",
       "    <tr>\n",
       "      <th>27174</th>\n",
       "      <td>2019</td>\n",
       "      <td>Июнь</td>\n",
       "      <td>Toyota Motor Kazakhstan</td>\n",
       "      <td>Toyota</td>\n",
       "      <td>LC Prado</td>\n",
       "      <td>2018</td>\n",
       "      <td>JPN</td>\n",
       "      <td>бензин</td>\n",
       "      <td>2.7</td>\n",
       "      <td>AT</td>\n",
       "      <td>4WD</td>\n",
       "      <td>Алматы</td>\n",
       "      <td>1</td>\n",
       "      <td>47589.29</td>\n",
       "      <td>47589.29</td>\n",
       "      <td>Внедорожники</td>\n",
       "      <td>Стандартные SUV</td>\n",
       "    </tr>\n",
       "    <tr>\n",
       "      <th>26998</th>\n",
       "      <td>2019</td>\n",
       "      <td>Май</td>\n",
       "      <td>Toyota Motor Kazakhstan</td>\n",
       "      <td>Toyota</td>\n",
       "      <td>LC Prado</td>\n",
       "      <td>2018</td>\n",
       "      <td>JPN</td>\n",
       "      <td>бензин</td>\n",
       "      <td>2.7</td>\n",
       "      <td>AT</td>\n",
       "      <td>4WD</td>\n",
       "      <td>Астана</td>\n",
       "      <td>1</td>\n",
       "      <td>53911.56</td>\n",
       "      <td>53911.56</td>\n",
       "      <td>Внедорожники</td>\n",
       "      <td>Стандартные SUV</td>\n",
       "    </tr>\n",
       "    <tr>\n",
       "      <th>17736</th>\n",
       "      <td>2019</td>\n",
       "      <td>Март</td>\n",
       "      <td>УзАвто-Казахстан</td>\n",
       "      <td>Ravon</td>\n",
       "      <td>Nexia R3</td>\n",
       "      <td>2018</td>\n",
       "      <td>UZB</td>\n",
       "      <td>бензин</td>\n",
       "      <td>1.5</td>\n",
       "      <td>MT</td>\n",
       "      <td>FWD</td>\n",
       "      <td>Шымкент</td>\n",
       "      <td>1</td>\n",
       "      <td>9317.19</td>\n",
       "      <td>9317.19</td>\n",
       "      <td>Легковые автомобили</td>\n",
       "      <td>B класс</td>\n",
       "    </tr>\n",
       "    <tr>\n",
       "      <th>1369</th>\n",
       "      <td>2019</td>\n",
       "      <td>Август</td>\n",
       "      <td>Вираж</td>\n",
       "      <td>GAZ</td>\n",
       "      <td>2705</td>\n",
       "      <td>2018</td>\n",
       "      <td>RUS</td>\n",
       "      <td>бензин</td>\n",
       "      <td>2.7</td>\n",
       "      <td>MT</td>\n",
       "      <td>RWD</td>\n",
       "      <td>Актау</td>\n",
       "      <td>1</td>\n",
       "      <td>19567.16</td>\n",
       "      <td>19567.16</td>\n",
       "      <td>Коммерческие автомобили</td>\n",
       "      <td>Развозные автомобили</td>\n",
       "    </tr>\n",
       "    <tr>\n",
       "      <th>29882</th>\n",
       "      <td>2019</td>\n",
       "      <td>Август</td>\n",
       "      <td>Toyota Motor Kazakhstan</td>\n",
       "      <td>Toyota</td>\n",
       "      <td>RAV4</td>\n",
       "      <td>2018</td>\n",
       "      <td>RUS</td>\n",
       "      <td>бензин</td>\n",
       "      <td>2.0</td>\n",
       "      <td>AT</td>\n",
       "      <td>4WD</td>\n",
       "      <td>Атырау</td>\n",
       "      <td>1</td>\n",
       "      <td>28457.25</td>\n",
       "      <td>28457.25</td>\n",
       "      <td>Внедорожники</td>\n",
       "      <td>Среднеразмерные SUV</td>\n",
       "    </tr>\n",
       "  </tbody>\n",
       "</table>\n",
       "</div>"
      ],
      "text/plain": [
       "        год     месяц                 компания   бренд    модель  год_выпуска  \\\n",
       "27868  2019  Сентябрь  Toyota Motor Kazakhstan  Toyota  LC Prado         2018   \n",
       "1457   2019  Сентябрь                    Вираж     GAZ      2752         2018   \n",
       "14128  2019   Февраль  Toyota Motor Kazakhstan   Lexus        ES         2017   \n",
       "1630   2019    Январь                    Вираж     GAZ      3302         2017   \n",
       "30937  2019      Март               БИПЭК АВТО     UAZ   Patriot         2017   \n",
       "27174  2019      Июнь  Toyota Motor Kazakhstan  Toyota  LC Prado         2018   \n",
       "26998  2019       Май  Toyota Motor Kazakhstan  Toyota  LC Prado         2018   \n",
       "17736  2019      Март         УзАвто-Казахстан   Ravon  Nexia R3         2018   \n",
       "1369   2019    Август                    Вираж     GAZ      2705         2018   \n",
       "29882  2019    Август  Toyota Motor Kazakhstan  Toyota      RAV4         2018   \n",
       "\n",
       "      страна_производитель вид_топлива  объём_двиг_л коробка_передач  \\\n",
       "27868                  JPN      бензин           4.0              AT   \n",
       "1457                   RUS      дизель           2.8              MT   \n",
       "14128                  JPN      бензин           2.5              AT   \n",
       "1630                   KAZ      бензин           2.7              MT   \n",
       "30937                  RUS      бензин           2.7              MT   \n",
       "27174                  JPN      бензин           2.7              AT   \n",
       "26998                  JPN      бензин           2.7              AT   \n",
       "17736                  UZB      бензин           1.5              MT   \n",
       "1369                   RUS      бензин           2.7              MT   \n",
       "29882                  RUS      бензин           2.0              AT   \n",
       "\n",
       "      тип_привода    регион  количество  цена_usd  продажа_usd  \\\n",
       "27868         4WD   Уральск           1  70479.37     70479.37   \n",
       "1457          4WD    Атырау           1  18848.12     18848.12   \n",
       "14128         FWD    Астана           1  44758.60     44758.60   \n",
       "1630          RWD  Костанай           1  15067.54     15067.54   \n",
       "30937         4WD    Алматы           2  13800.00     27600.00   \n",
       "27174         4WD    Алматы           1  47589.29     47589.29   \n",
       "26998         4WD    Астана           1  53911.56     53911.56   \n",
       "17736         FWD   Шымкент           1   9317.19      9317.19   \n",
       "1369          RWD     Актау           1  19567.16     19567.16   \n",
       "29882         4WD    Атырау           1  28457.25     28457.25   \n",
       "\n",
       "              сегментация_2013               класс_2013  \n",
       "27868             Внедорожники          Стандартные SUV  \n",
       "1457   Коммерческие автомобили     Развозные автомобили  \n",
       "14128      Легковые автомобили                  E класс  \n",
       "1630   Коммерческие автомобили  Малотоннажные грузовики  \n",
       "30937             Внедорожники       Полноразмерные SUV  \n",
       "27174             Внедорожники          Стандартные SUV  \n",
       "26998             Внедорожники          Стандартные SUV  \n",
       "17736      Легковые автомобили                  B класс  \n",
       "1369   Коммерческие автомобили     Развозные автомобили  \n",
       "29882             Внедорожники      Среднеразмерные SUV  "
      ]
     },
     "execution_count": 62,
     "metadata": {},
     "output_type": "execute_result"
    }
   ],
   "source": [
    "df.sample(10)"
   ]
  },
  {
   "cell_type": "code",
   "execution_count": 63,
   "id": "f4a3a526",
   "metadata": {},
   "outputs": [],
   "source": [
    "df.to_excel('auto_kaz.xlsx', index=False)"
   ]
  },
  {
   "cell_type": "markdown",
   "id": "452f57aa",
   "metadata": {},
   "source": [
    "загрузили  в Excel, для удобства клиента"
   ]
  },
  {
   "cell_type": "markdown",
   "id": "e30f7d3b",
   "metadata": {},
   "source": [
    "## Ссылка на отчет "
   ]
  },
  {
   "cell_type": "markdown",
   "id": "7115bad2",
   "metadata": {},
   "source": [
    "https://app.powerbi.com/view?r=eyJrIjoiYjQ5ZThiNWMtMmMzNS00YWUyLTkyNzAtNmRkMmE2MWI2NmRkIiwidCI6IjQ3OTNhOTZhLTA2N2EtNDJhOC05OWRkLWU3YTdiNDk2NDAzOCIsImMiOjl9"
   ]
  },
  {
   "cell_type": "markdown",
   "id": "d501cb44",
   "metadata": {},
   "source": [
    "## Анализ авторынка Казахстана по данным за период январь-сентябрь 2019 года.\n",
    "\n",
    "**Всего проанализирована работа 32 автодилеров.*\n",
    "\n",
    "Объем рынка продаж – 1,15 миллиарда долларов США, в штучном выражении – 43,6 тысяч машин.\n",
    "\n",
    "*Регионы*\n",
    "\n",
    "Самый успешный по продажам регион – Алматы (бывшая столица Казахстана)  – 33% всего авторынка Казахстана. Алматы – крупнейший по населению город Казахстана. Астана – нынешняя столица Казахстана отстает от Алматы и по численности населения, и по количеству предприятий, ну и по продажам авто – 23% от всех продаж Казахстана.\n",
    "Это 2 крупнейших региона, которые продают более половины всех автомобилей страны.\n",
    "Остальные регионы продают не более 6% каждый. \n",
    "\n",
    "*Время*\n",
    "\n",
    "Январь-февраль месяцы – самые провальные по продажам, но это связано с началом нового продажного года, когда в наличии еще практически только автомобили прошлого года выпуска, что автоматически снижает их стоимость на вторичном рынке. \n",
    "Август, как время отпусков, также имеет падение продаж по отношению к другим месяцам лета.\n",
    "По моим прогнозам емкость рынка 2019 года – 1,53 млрд долларов, и, соответственно, 58,1 тысяч автомобилей.\n",
    "В сентябре месяце было продано больше всего автомобилей – 5728, на сумму 149 млн долларов, однако в июне было продано на сумму 153 млн долларов 5542 автомобиля. Вероятно, это связано, с тем, что в июне был пик продаж легкового транспорта, который в среднем стоит дешевле, чем коммерческий транспорт или внедорожники.\n",
    "\n",
    "*Классы и типы авто*\n",
    "\n",
    "Самые продаваемые классы автомобилей в Казахстане: внедорожники, легковые и коммерческие авто.\n",
    "Продажи внедорожников составили 17,81 тысячу машин на сумму -595, 28 млн $ и имеют тенденцию к росту продаж.\n",
    "Продажи легковых автомобилей 20 тысяч машин на сумму 355,23 млн $ имеют пик продаж в июне.\n",
    "Продаж коммерческих автомобилей 4,84 тысячи штук на сумму 166,66 млн $ имеют пики продаж в мае и июле, а вот в июне – спад.\n",
    "Больше всего продается машин с автоматической коробкой передач (и ее модификациях) – 787,07 млн $ (24,04 тысячи машин), с механикой – 300,19 млн $ (17,94 тысяч машин)\n",
    "Большинство продаж приходится на автомобили с бензиновым двигателем – 998,43 млн $ (40, 39 тысяч штук), с газом продано единицы – 70 штук на 5,41 млн$. Возможно, это связано с тем, что большинство пользователей газовых двигателей переоборудуют свои бензиновые автомобили уже после их покупки.\n",
    "Большинство автомобилей с дизельным двигателем – это коммерческие авто.\n",
    "Всего продано авто с дизельным топливом 104,86 млн $ (1,95 тысяч машин) – из них 100 млн $ (1,80 тысяч машин) – это коммерческие автомобили. Большинство грузовой и специализированной техники работают на дизельном топливе.\n",
    "\n",
    "*Бренды*\n",
    "\n",
    "Самый продаваемый бренд автомобиля  по сумме продаж– Toyota – 383,88 млн $ (9374 авто).  И модель Camry – занимает 30% от продаж всего модельного ряда Toyota. Продажей Toyota занимается только один дилер – Toyota Motor Kazahstan.\n",
    "А Lada – лидер по количеству продаваемых машин – 94,26 млн $ (9667 штук). И в ее модельном ряду 4 лидера, которые близки по объемам продаж: Granta (2771 штук) – 19,67 млн $, 4x4 (2329 штук) – 20, 96 млн $, Vesta (1843 штук) – 22,4 млн $,  Largus (1616 штук) – 18,4 млн $. Продажами этого бренда также занимается только один дилер – Бипэк Авто."
   ]
  },
  {
   "cell_type": "markdown",
   "id": "21ca8517",
   "metadata": {},
   "source": [
    "**Меркур Авто**\n",
    "\n",
    "Продано за период январь-сентябрь 2019 года – 1070 машин на сумму 31,44 млн долларов США, с прибылью (по данным клиента в 3%) – 943 тысячи долларов. \n",
    "\n",
    "Доля от общих продаж авто в Казахстане составляет -2,74% в USD и 2,45% в штуках. Однако, в продажах минивэнов Меркур Авто занимает почти 21% в денежном выражении. Видимо за счет продаж Volkswagen Transporter.\n",
    "\n",
    "Специализация продаж – 3 бренда: Volkswagen, Porsche, Audi. Этими марками в Кахастане занимается только Меркур Авто.\n",
    "\n",
    "Динамика продаж в разбираемый период вполне соответствует динамике всего рынка Казахстана с небольшим спадом в феврале, дальнейшим ростом и сезонным провалом в августе. Однако, в сентябре большой скачок продаж обусловленный продажей Volkswagen Polo – 2,9 млн USD (209 штук), большая часть продана в Алматы. Это недорогая модель автомомбиля, возможно закуплена для эксплуатации в качестве такси.\n",
    "\n",
    "Самые большие дилеры на рынке Казахстана:\n",
    "* Toyota Motor Kazahstan – 468,7 млн долларов (10442 авто)\n",
    "* Бипэк Авто – 154,5 млн долларов (12757 авто)\n",
    "* Astana Motors – 128,9 млн долларов (5781 авто)\n",
    "* Nissan Manufacturing RUS. – 43,9 млн долларов (1761 авто)\n",
    "\n",
    "ТК Камаз также один из крупнейших дилеров, но специализируется на коммерческом транспорте: грузовой и специализированной технике. А Меркур Авто – это, в основном, внедорожники и легковые автомобили. \n",
    "\n",
    "Вообще, рынку Казахстана присуща специализация продаж по признаку бренда или регионы производителя (например, Китай)."
   ]
  },
  {
   "cell_type": "markdown",
   "id": "2197d81a",
   "metadata": {},
   "source": [
    "## Вывод\n",
    "\n",
    "На продажи Меркур Авто влияет сезонность, которая присуща рынку продаж лекговых автомобилей.\n",
    "Возможно, стоит обратить внимание на расширение брендовой линейки, например, за счет автомобилей того же концерна, что и продает Меркур авто – Skoda. В этой марке есть недорогие модели, которые с успехом продает Mercur Auto.\n",
    "\n",
    "А также на развивающийся класс автомобилей с двигателями гибрид и электрическими.\n",
    "\n",
    "А также необходимо поработать над продажами в Астане, сейчас это 3-й по прибыльности регион у дилера после Алматы и Костаная.  Хотя, тенденции всего авторынка показывают, что в Астане продажи составляют до 23% от всех продаж. Явно прослеживается провал в работе филиала Астаны.\n",
    "\n",
    "Ну и, раз неплохая ситуация обстоит в сегменте Минивэнов (20% рынка всех минивэнов), то может стоит пересмотреть  свои усилия и в продвижении этого класса авто."
   ]
  },
  {
   "cell_type": "code",
   "execution_count": null,
   "id": "cb96614e",
   "metadata": {},
   "outputs": [],
   "source": []
  }
 ],
 "metadata": {
  "kernelspec": {
   "display_name": "Python 3 (ipykernel)",
   "language": "python",
   "name": "python3"
  },
  "language_info": {
   "codemirror_mode": {
    "name": "ipython",
    "version": 3
   },
   "file_extension": ".py",
   "mimetype": "text/x-python",
   "name": "python",
   "nbconvert_exporter": "python",
   "pygments_lexer": "ipython3",
   "version": "3.9.12"
  },
  "toc": {
   "base_numbering": 1,
   "nav_menu": {},
   "number_sections": true,
   "sideBar": true,
   "skip_h1_title": false,
   "title_cell": "Table of Contents",
   "title_sidebar": "Contents",
   "toc_cell": false,
   "toc_position": {
    "height": "calc(100% - 180px)",
    "left": "10px",
    "top": "150px",
    "width": "255.706px"
   },
   "toc_section_display": true,
   "toc_window_display": true
  }
 },
 "nbformat": 4,
 "nbformat_minor": 5
}
